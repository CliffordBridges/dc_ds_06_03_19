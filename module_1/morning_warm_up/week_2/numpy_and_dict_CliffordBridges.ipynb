{
 "cells": [
  {
   "cell_type": "code",
   "execution_count": 10,
   "metadata": {},
   "outputs": [],
   "source": [
    "import numpy as np"
   ]
  },
  {
   "cell_type": "code",
   "execution_count": 11,
   "metadata": {
    "collapsed": true
   },
   "outputs": [
    {
     "data": {
      "text/plain": [
       "['Player 1',\n",
       " 'Player 2',\n",
       " 'Player 3',\n",
       " 'Player 4',\n",
       " 'Player 5',\n",
       " 'Player 6',\n",
       " 'Player 7',\n",
       " 'Player 8',\n",
       " 'Player 9',\n",
       " 'Player 10',\n",
       " 'Player 11',\n",
       " 'Player 12',\n",
       " 'Player 13',\n",
       " 'Player 14',\n",
       " 'Player 15',\n",
       " 'Player 16',\n",
       " 'Player 17',\n",
       " 'Player 18',\n",
       " 'Player 19',\n",
       " 'Player 20',\n",
       " 'Player 21',\n",
       " 'Player 22',\n",
       " 'Player 23',\n",
       " 'Player 24',\n",
       " 'Player 25',\n",
       " 'Player 26',\n",
       " 'Player 27',\n",
       " 'Player 28',\n",
       " 'Player 29',\n",
       " 'Player 30',\n",
       " 'Player 31',\n",
       " 'Player 32']"
      ]
     },
     "execution_count": 11,
     "metadata": {},
     "output_type": "execute_result"
    }
   ],
   "source": [
    "players = []\n",
    "for index in range(0,32):\n",
    "    players.append('Player '+str(index+1))\n",
    "players"
   ]
  },
  {
   "cell_type": "code",
   "execution_count": null,
   "metadata": {},
   "outputs": [],
   "source": [
    "players_played = {'players_won': [], 'players_lost': []}\n",
    "for player_a, player_b  in zip(players, players):\n",
    "    if (player_a = player_b) or \n",
    "        (player_a in players_played['players_lost']) or \n",
    "        (player_b in players_played['players_lost']):\n",
    "        continue\n",
    "    elif np.random.randint(1):\n",
    "        players_played['players_won'].append(player_a)\n",
    "        players_played['players_lost'].append(player_b)\n",
    "    else:\n",
    "        players_played['players_won'].append(player_b)\n",
    "        players_played['players_lost'].append(player_a)\n",
    "        \n",
    "        \n",
    "        players_played['players_won'], players_played['players_won']\n",
    "for player in names set(players).difference(set(players_played['players_won']).union(set(players_played['players_lost'])))}\n",
    "    players_played.append(player)\n",
    "np.random.randint(1)"
   ]
  },
  {
   "cell_type": "code",
   "execution_count": 13,
   "metadata": {},
   "outputs": [
    {
     "name": "stdout",
     "output_type": "stream",
     "text": [
      "MATCH: 0\n",
      "['Player 28', 'Player 1', 'Player 29', 'Player 16', 'Player 16', 'Player 29', 'Player 26', 'Player 10', 'Player 2', 'Player 18', 'Player 22', 'Player 28', 'Player 5', 'Player 10', 'Player 21', 'Player 28']\n",
      "MATCH: 1\n",
      "1 5 3\n"
     ]
    },
    {
     "ename": "IndexError",
     "evalue": "list index out of range",
     "output_type": "error",
     "traceback": [
      "\u001b[1;31m---------------------------------------------------------------------------\u001b[0m",
      "\u001b[1;31mIndexError\u001b[0m                                Traceback (most recent call last)",
      "\u001b[1;32m<ipython-input-13-df525f0976e3>\u001b[0m in \u001b[0;36m<module>\u001b[1;34m\u001b[0m\n\u001b[0;32m      7\u001b[0m         \u001b[0mrand_b\u001b[0m \u001b[1;33m=\u001b[0m \u001b[0mnp\u001b[0m\u001b[1;33m.\u001b[0m\u001b[0mrandom\u001b[0m\u001b[1;33m.\u001b[0m\u001b[0mrandint\u001b[0m\u001b[1;33m(\u001b[0m\u001b[1;36m2\u001b[0m\u001b[1;33m**\u001b[0m\u001b[1;33m(\u001b[0m\u001b[1;36m5\u001b[0m\u001b[1;33m-\u001b[0m\u001b[0mmatch\u001b[0m\u001b[1;33m)\u001b[0m \u001b[1;33m-\u001b[0m \u001b[1;36m2\u001b[0m\u001b[1;33m*\u001b[0m\u001b[0mhead_to_head\u001b[0m\u001b[1;33m)\u001b[0m\u001b[1;33m\u001b[0m\u001b[1;33m\u001b[0m\u001b[0m\n\u001b[0;32m      8\u001b[0m         \u001b[0mprint\u001b[0m\u001b[1;33m(\u001b[0m\u001b[0mmatch\u001b[0m\u001b[1;33m,\u001b[0m \u001b[0mrand_a\u001b[0m\u001b[1;33m,\u001b[0m \u001b[0mrand_b\u001b[0m\u001b[1;33m)\u001b[0m\u001b[1;33m\u001b[0m\u001b[1;33m\u001b[0m\u001b[0m\n\u001b[1;32m----> 9\u001b[1;33m         \u001b[1;32mif\u001b[0m \u001b[0mcurrent_match_winners\u001b[0m\u001b[1;33m[\u001b[0m\u001b[0mmatch\u001b[0m\u001b[1;33m]\u001b[0m\u001b[1;33m[\u001b[0m\u001b[0mrand_a\u001b[0m\u001b[1;33m]\u001b[0m \u001b[1;33m==\u001b[0m \u001b[0mcurrent_match_winners\u001b[0m\u001b[1;33m[\u001b[0m\u001b[0mmatch\u001b[0m\u001b[1;33m]\u001b[0m\u001b[1;33m[\u001b[0m\u001b[0mrand_b\u001b[0m\u001b[1;33m]\u001b[0m\u001b[1;33m:\u001b[0m\u001b[1;33m\u001b[0m\u001b[1;33m\u001b[0m\u001b[0m\n\u001b[0m\u001b[0;32m     10\u001b[0m             \u001b[1;32mcontinue\u001b[0m\u001b[1;33m\u001b[0m\u001b[1;33m\u001b[0m\u001b[0m\n\u001b[0;32m     11\u001b[0m         \u001b[1;32melif\u001b[0m \u001b[0mnp\u001b[0m\u001b[1;33m.\u001b[0m\u001b[0mrandom\u001b[0m\u001b[1;33m.\u001b[0m\u001b[0mrandint\u001b[0m\u001b[1;33m(\u001b[0m\u001b[1;36m1\u001b[0m\u001b[1;33m)\u001b[0m\u001b[1;33m:\u001b[0m\u001b[1;33m\u001b[0m\u001b[1;33m\u001b[0m\u001b[0m\n",
      "\u001b[1;31mIndexError\u001b[0m: list index out of range"
     ]
    }
   ],
   "source": [
    "current_match_winners = {0: players, 1: [], 2: [], 3: [], 4: []}\n",
    "for match in range(0,5):\n",
    "    print(f'MATCH: {match}')\n",
    "    head_to_head = 0\n",
    "    while len(players) > 2**(4-match):\n",
    "        rand_a = np.random.randint(2**(5-match) - 2*head_to_head)\n",
    "        rand_b = np.random.randint(2**(5-match) - 2*head_to_head)\n",
    "        print(match, rand_a, rand_b)\n",
    "        if current_match_winners[match][rand_a] == current_match_winners[match][rand_b]:\n",
    "            continue\n",
    "        elif np.random.randint(1):\n",
    "            current_match_winners[match].append(current_match_winners[match][rand_a])\n",
    "            current_match_winners[match].pop(current_match_winners[match][rand_a])\n",
    "            current_match_winners[match].pop(current_match_winners[match][rand_b])\n",
    "        else:\n",
    "            current_match_winners[match].append(current_match_winners[match][rand_b])\n",
    "            current_match_winners[match].pop(rand_a)\n",
    "            current_match_winners[match].pop(rand_b)\n",
    "            head_to_head += 1 \n",
    "    print(current_match_winners[match])"
   ]
  },
  {
   "cell_type": "code",
   "execution_count": null,
   "metadata": {},
   "outputs": [],
   "source": []
  }
 ],
 "metadata": {
  "kernelspec": {
   "display_name": "Python 3",
   "language": "python",
   "name": "python3"
  },
  "language_info": {
   "codemirror_mode": {
    "name": "ipython",
    "version": 3
   },
   "file_extension": ".py",
   "mimetype": "text/x-python",
   "name": "python",
   "nbconvert_exporter": "python",
   "pygments_lexer": "ipython3",
   "version": "3.7.3"
  }
 },
 "nbformat": 4,
 "nbformat_minor": 2
}
