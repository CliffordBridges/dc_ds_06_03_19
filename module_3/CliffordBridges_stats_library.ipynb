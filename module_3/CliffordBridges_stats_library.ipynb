{
 "cells": [
  {
   "cell_type": "code",
   "execution_count": null,
   "metadata": {},
   "outputs": [],
   "source": [
    "# Function to take in sample data and calculate the confidence interval\n",
    "def conf_interval(sample, alpha):\n",
    "    '''\n",
    "    Input:  sample and alpha\n",
    "    Output: Confidence interval\n",
    "    '''\n",
    "    n = len(sample)\n",
    "    conf = stats.t.interval(alpha = alpha,              # Confidence level\n",
    "                            df= n-1,                    # Degrees of freedom\n",
    "                            loc = sample.mean(),         # Sample mean\n",
    "                            scale = sample.std()             # Standard deviation estimate\n",
    "                           )\n",
    "    return conf"
   ]
  },
  {
   "cell_type": "code",
   "execution_count": null,
   "metadata": {},
   "outputs": [],
   "source": [
    "def plot_error_bars(population, sample_size, num_samples, alpha):\n",
    "    \"\"\"\n",
    "    Takes in a data population and a list of intervals representing sample mean errors.\n",
    "    Plots a figure with the population mean in red and the sample errors for each sample around it.\n",
    "    \"\"\"\n",
    "    \n",
    "    # Initialize lists to store interval and mean values\n",
    "    intervals = []\n",
    "    sample_means = []\n",
    "\n",
    "    # Run a for loop for sampling num_samples times and calculate + store confidence interval and sample mean values in lists initialised above\n",
    "\n",
    "    for rand_sample in range(num_samples):\n",
    "\n",
    "        # Take a random sample of chosen size \n",
    "        sample = np.random.choice(population, size=sample_size) # Take a random sample of size sample_size from above population\n",
    "\n",
    "\n",
    "        # Calculate and append sample means and conf intervals for each iteration\n",
    "        intervals.append(conf_interval(sample_ages, alpha))\n",
    "        sample_means.append(sample_ages.mean())\n",
    "\n",
    "    \n",
    "    \n",
    "    plt.figure(figsize=(15,9))\n",
    "\n",
    "    plt.errorbar(x=np.arange(0.1, num_samples, 1), \n",
    "                 y=sample_means, \n",
    "                 yerr=[(top-bot)/2 for bot,top in intervals],\n",
    "                 fmt='o')\n",
    "\n",
    "    plt.hlines(xmin=0, xmax=num_samples,\n",
    "               y=population.mean(), \n",
    "               linewidth=2.0,\n",
    "               color=\"red\")"
   ]
  },
  {
   "cell_type": "code",
   "execution_count": null,
   "metadata": {},
   "outputs": [],
   "source": [
    "\n"
   ]
  }
 ],
 "metadata": {
  "kernelspec": {
   "display_name": "Python 3",
   "language": "python",
   "name": "python3"
  },
  "language_info": {
   "codemirror_mode": {
    "name": "ipython",
    "version": 3
   },
   "file_extension": ".py",
   "mimetype": "text/x-python",
   "name": "python",
   "nbconvert_exporter": "python",
   "pygments_lexer": "ipython3",
   "version": "3.7.3"
  }
 },
 "nbformat": 4,
 "nbformat_minor": 2
}
