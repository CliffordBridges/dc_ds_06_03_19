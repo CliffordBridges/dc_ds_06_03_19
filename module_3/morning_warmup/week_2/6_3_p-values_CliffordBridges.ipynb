{
 "cells": [
  {
   "cell_type": "markdown",
   "metadata": {},
   "source": [
    "### Understanding P-values "
   ]
  },
  {
   "cell_type": "code",
   "execution_count": 1,
   "metadata": {},
   "outputs": [],
   "source": [
    "import numpy as np"
   ]
  },
  {
   "cell_type": "markdown",
   "metadata": {},
   "source": [
    "1. Let's start by thinking about a game where you need to identify the suits of 12 cards drawn randomly with replacement from a 52 card deck.\n",
    "\n",
    "\t- Create a list of four string elements - hearts, diamonds, clubs and spades \n",
    "\t- Create a new list using np.repeat to repeat each element 13 times (this list should contain 52 elements)\n",
    "\t- Use np.random.shuffle to shuffle the deck \n"
   ]
  },
  {
   "cell_type": "code",
   "execution_count": 2,
   "metadata": {},
   "outputs": [],
   "source": [
    "suits = ['hearts', 'diamonds', 'clubs', 'spades']"
   ]
  },
  {
   "cell_type": "code",
   "execution_count": 4,
   "metadata": {},
   "outputs": [],
   "source": [
    "deck = np.repeat(suits, 13)"
   ]
  },
  {
   "cell_type": "code",
   "execution_count": 5,
   "metadata": {},
   "outputs": [],
   "source": [
    "np.random.shuffle(deck)"
   ]
  },
  {
   "cell_type": "markdown",
   "metadata": {},
   "source": [
    "2. Let's assume you are completely guessing - i.e. your chance to get it right is 25%  - this assumption is called the null hypothesis and is denoted ($H_0$)\n",
    "   - The probability that someone is completely guessing ($H_0$) and got x cards or more correctly will tell us the p-value. If it's really small - not a real chance to obtain this result we will reject the null hypothesis of guessing (prehaps we have sensory abilities)\n",
    "   - Create a varibale called ```chance``` and assign 0.25 (my guessing chance) to it.  "
   ]
  },
  {
   "cell_type": "code",
   "execution_count": 6,
   "metadata": {},
   "outputs": [],
   "source": [
    "chance = 0.25"
   ]
  },
  {
   "cell_type": "markdown",
   "metadata": {},
   "source": [
    "3. Create a ```correct_guess``` variable (initialize it with 0)"
   ]
  },
  {
   "cell_type": "code",
   "execution_count": 8,
   "metadata": {},
   "outputs": [],
   "source": [
    "correct_guess = 0"
   ]
  },
  {
   "cell_type": "markdown",
   "metadata": {},
   "source": [
    "4. Create a ```counter``` variable (initialize it with 0) to see how many experiments are needed to guess 12 cards or more correctly "
   ]
  },
  {
   "cell_type": "code",
   "execution_count": 9,
   "metadata": {},
   "outputs": [],
   "source": [
    "counter = 0"
   ]
  },
  {
   "cell_type": "markdown",
   "metadata": {},
   "source": [
    "5. Create a while loop with a nested for loop\n",
    "\n",
    "\t-    Stop the while loop only when you have 5 rounds with 12 correct guesses or more - keep the loop running for 20 steps always (Don't use break!)\n",
    "\t-    Run the for loop for a range of 20 (our test for identification)\n",
    "\t-    Each run draw randomly from your deck a card\n",
    "\t-    Also randomly choose from the list of 4 elements (spades, diamond etc..)\n",
    "\t-    If the draw from the deck equals your draw, increment ```correct_guess``` by one\n",
    "\t-    Every time the for loop ends, increment counter by one "
   ]
  },
  {
   "cell_type": "code",
   "execution_count": 22,
   "metadata": {},
   "outputs": [],
   "source": [
    "counter = 0\n",
    "run = 0\n",
    "while counter<5:\n",
    "    correct_guess = 0\n",
    "    for draw in range(20):\n",
    "        np.random.shuffle(deck)\n",
    "        guess = np.random.choice(suits)\n",
    "        if deck[0]==guess:\n",
    "            correct_guess += 1\n",
    "    if correct_guess>11:\n",
    "        counter += 1\n",
    "    run += 1"
   ]
  },
  {
   "cell_type": "markdown",
   "metadata": {},
   "source": [
    "6. Divide 5 by the counter value --> this is the empirical P value"
   ]
  },
  {
   "cell_type": "code",
   "execution_count": 23,
   "metadata": {},
   "outputs": [
    {
     "data": {
      "text/plain": [
       "0.000751653638003608"
      ]
     },
     "execution_count": 23,
     "metadata": {},
     "output_type": "execute_result"
    }
   ],
   "source": [
    "counter/run"
   ]
  },
  {
   "cell_type": "code",
   "execution_count": null,
   "metadata": {},
   "outputs": [],
   "source": []
  }
 ],
 "metadata": {
  "kernelspec": {
   "display_name": "Python 3",
   "language": "python",
   "name": "python3"
  },
  "language_info": {
   "codemirror_mode": {
    "name": "ipython",
    "version": 3
   },
   "file_extension": ".py",
   "mimetype": "text/x-python",
   "name": "python",
   "nbconvert_exporter": "python",
   "pygments_lexer": "ipython3",
   "version": "3.7.3"
  }
 },
 "nbformat": 4,
 "nbformat_minor": 2
}
