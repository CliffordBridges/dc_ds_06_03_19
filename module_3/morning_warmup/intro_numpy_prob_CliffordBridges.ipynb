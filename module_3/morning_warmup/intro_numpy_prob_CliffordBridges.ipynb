{
 "cells": [
  {
   "cell_type": "markdown",
   "metadata": {},
   "source": [
    "### Let's use numpy to answer a probability question by creating a simulation!\n",
    "\n",
    "1. We have a box that contains 40 red balls and 60 white balls. What is the probability to pick a red ball 3 times in a row with replacement (calculated theoretically)?\n",
    "\n",
    "2. Now let's answer the same question using a simulation that runs 1\\_000, 10\\_000, and 100\\_000 times and counts how many of those times we draw 3 red balls in a row. Hint: use np.random.rand()\n",
    "\n",
    "3. [Optional] Create a similar simulation that runs without replacement."
   ]
  },
  {
   "cell_type": "code",
   "execution_count": 1,
   "metadata": {},
   "outputs": [],
   "source": [
    "import numpy as np"
   ]
  },
  {
   "cell_type": "markdown",
   "metadata": {},
   "source": [
    "### Drawing $n$ balls (40\\% are red, 60\\% are white) with replacement, how many times do we draw 3 reds in a row?"
   ]
  },
  {
   "cell_type": "code",
   "execution_count": 30,
   "metadata": {},
   "outputs": [
    {
     "name": "stdout",
     "output_type": "stream",
     "text": [
      "final count:  62\n",
      "final probability 0.062186559679037114\n"
     ]
    }
   ],
   "source": [
    "n = 1_000\n",
    "red = 0.40\n",
    "last_3_balls = {'i-2': None, 'i-1':None, 'i':None}\n",
    "count = 0\n",
    "\n",
    "# Inititialize first 3 balls\n",
    "if np.random.rand(1) < red:\n",
    "    last_3_balls['i-2'] = 'red'\n",
    "else:\n",
    "    last_3_balls['i-2'] = 'blue'\n",
    "if np.random.rand(1) < red:\n",
    "    last_3_balls['i-1'] = 'red'\n",
    "else:\n",
    "    last_3_balls['i-1'] = 'blue'\n",
    "if np.random.rand(1) < red:\n",
    "    last_3_balls['i'] = 'red'\n",
    "else:\n",
    "    last_3_balls['i'] = 'blue'\n",
    "    \n",
    "if 'blue' in last_3_balls.values():\n",
    "    pass\n",
    "else:\n",
    "    count += 1\n",
    "    print('lucky first draw!')\n",
    "\n",
    "# Loop through next n-3 balls\n",
    "\n",
    "for ball in range(n-3):\n",
    "    last_3_balls['i-2'] = last_3_balls['i-1']\n",
    "    last_3_balls['i-1'] = last_3_balls['i']\n",
    "    if np.random.rand(1) < red:\n",
    "        last_3_balls['i'] = 'red'\n",
    "    else:\n",
    "        last_3_balls['i'] = 'blue'\n",
    "    if 'blue' in last_3_balls.values():\n",
    "        pass\n",
    "    else:\n",
    "        count += 1\n",
    "\n",
    "print('final count: ', count)\n",
    "print('final probability', count/(n-3))"
   ]
  },
  {
   "cell_type": "markdown",
   "metadata": {},
   "source": [
    "### Drawing 3 balls $n$ times (with replacement), how many times do we draw 3 reds in a row?"
   ]
  },
  {
   "cell_type": "code",
   "execution_count": 62,
   "metadata": {},
   "outputs": [
    {
     "name": "stdout",
     "output_type": "stream",
     "text": [
      "simulation:  0.08\n",
      "probability:  0.06400000000000002\n"
     ]
    }
   ],
   "source": [
    "n = 100\n",
    "red = 0.40\n",
    "count = 0\n",
    "\n",
    "for index in range(n):\n",
    "    for ball in range(3):\n",
    "        if np.random.rand(1) < red:\n",
    "            if np.random.rand(1) < red:\n",
    "                if np.random.rand(1) < red:\n",
    "                    count += 1\n",
    "            else:\n",
    "                break\n",
    "        else:\n",
    "            break\n",
    "\n",
    "print('simulation: ', count/n)\n",
    "print('probability: ', 0.4*0.4*0.4)\n"
   ]
  },
  {
   "cell_type": "markdown",
   "metadata": {},
   "source": [
    "### Drawing 3 balls $n$ times (without replacement), how many times do we draw 3 reds in a row?"
   ]
  },
  {
   "cell_type": "code",
   "execution_count": 61,
   "metadata": {},
   "outputs": [
    {
     "name": "stdout",
     "output_type": "stream",
     "text": [
      "simulation:  0.06\n",
      "probability:  0.06110080395794682\n"
     ]
    }
   ],
   "source": [
    "n = 100\n",
    "red = 0.40\n",
    "first_1_is_red = 0.39/0.99\n",
    "first_2_are_red = 0.38/0.98\n",
    "count = 0\n",
    "\n",
    "for index in range(n):\n",
    "    for ball in range(3):\n",
    "        if np.random.rand(1) < red:\n",
    "            if np.random.rand(1) < first_1_is_red:\n",
    "                if np.random.rand(1) < first_2_are_red:\n",
    "                    count += 1\n",
    "            else:\n",
    "                break\n",
    "        else:\n",
    "            break\n",
    "\n",
    "print('simulation: ', count/n)\n",
    "print('probability: ', red*first_1_is_red*first_2_are_red)"
   ]
  },
  {
   "cell_type": "code",
   "execution_count": null,
   "metadata": {},
   "outputs": [],
   "source": []
  }
 ],
 "metadata": {
  "kernelspec": {
   "display_name": "Python 3",
   "language": "python",
   "name": "python3"
  },
  "language_info": {
   "codemirror_mode": {
    "name": "ipython",
    "version": 3
   },
   "file_extension": ".py",
   "mimetype": "text/x-python",
   "name": "python",
   "nbconvert_exporter": "python",
   "pygments_lexer": "ipython3",
   "version": "3.7.3"
  }
 },
 "nbformat": 4,
 "nbformat_minor": 2
}
