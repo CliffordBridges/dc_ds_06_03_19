{
 "cells": [
  {
   "cell_type": "markdown",
   "metadata": {},
   "source": [
    "### Import packages "
   ]
  },
  {
   "cell_type": "code",
   "execution_count": 1,
   "metadata": {},
   "outputs": [],
   "source": [
    "import sqlite3\n",
    "import pandas as pd"
   ]
  },
  {
   "cell_type": "markdown",
   "metadata": {},
   "source": [
    "### Connect to database - there are two relevant tables ('author' and 'books')"
   ]
  },
  {
   "cell_type": "code",
   "execution_count": 8,
   "metadata": {},
   "outputs": [],
   "source": [
    "conn = sqlite3.connect('amazon_db.db')\n",
    "c = conn.cursor()"
   ]
  },
  {
   "cell_type": "code",
   "execution_count": 9,
   "metadata": {},
   "outputs": [
    {
     "data": {
      "text/plain": [
       "<sqlite3.Cursor at 0x1c57cfed8f0>"
      ]
     },
     "execution_count": 9,
     "metadata": {},
     "output_type": "execute_result"
    }
   ],
   "source": [
    "c.execute(\"\"\"SELECT * FROM books\n",
    "LIMIT 5; \"\"\") "
   ]
  },
  {
   "cell_type": "code",
   "execution_count": 7,
   "metadata": {},
   "outputs": [
    {
     "data": {
      "text/plain": [
       "(('books', None, None, None, None, None, None),\n",
       " ('num_copies', None, None, None, None, None, None))"
      ]
     },
     "execution_count": 7,
     "metadata": {},
     "output_type": "execute_result"
    }
   ],
   "source": [
    "c.description"
   ]
  },
  {
   "cell_type": "code",
   "execution_count": 10,
   "metadata": {},
   "outputs": [
    {
     "data": {
      "text/html": [
       "<div>\n",
       "<style scoped>\n",
       "    .dataframe tbody tr th:only-of-type {\n",
       "        vertical-align: middle;\n",
       "    }\n",
       "\n",
       "    .dataframe tbody tr th {\n",
       "        vertical-align: top;\n",
       "    }\n",
       "\n",
       "    .dataframe thead th {\n",
       "        text-align: right;\n",
       "    }\n",
       "</style>\n",
       "<table border=\"1\" class=\"dataframe\">\n",
       "  <thead>\n",
       "    <tr style=\"text-align: right;\">\n",
       "      <th></th>\n",
       "      <th>books</th>\n",
       "      <th>num_copies</th>\n",
       "    </tr>\n",
       "  </thead>\n",
       "  <tbody>\n",
       "    <tr>\n",
       "      <th>0</th>\n",
       "      <td>A Elephant Ate Under A Fish</td>\n",
       "      <td>4226324</td>\n",
       "    </tr>\n",
       "    <tr>\n",
       "      <th>1</th>\n",
       "      <td>A Boy Jumped Outside A Lake</td>\n",
       "      <td>4048899</td>\n",
       "    </tr>\n",
       "    <tr>\n",
       "      <th>2</th>\n",
       "      <td>One Man Hopped Under The Tree</td>\n",
       "      <td>774329</td>\n",
       "    </tr>\n",
       "    <tr>\n",
       "      <th>3</th>\n",
       "      <td>A Person Threw Behind The Notebook</td>\n",
       "      <td>1359606</td>\n",
       "    </tr>\n",
       "    <tr>\n",
       "      <th>4</th>\n",
       "      <td>The Tree Ran Through A Mountain</td>\n",
       "      <td>4703380</td>\n",
       "    </tr>\n",
       "  </tbody>\n",
       "</table>\n",
       "</div>"
      ],
      "text/plain": [
       "                                books num_copies\n",
       "0         A Elephant Ate Under A Fish    4226324\n",
       "1         A Boy Jumped Outside A Lake    4048899\n",
       "2       One Man Hopped Under The Tree     774329\n",
       "3  A Person Threw Behind The Notebook    1359606\n",
       "4     The Tree Ran Through A Mountain    4703380"
      ]
     },
     "execution_count": 10,
     "metadata": {},
     "output_type": "execute_result"
    }
   ],
   "source": [
    "df = pd.DataFrame(c.fetchall())\n",
    "df.columns = [i[0] for i in c.description]\n",
    "df"
   ]
  },
  {
   "cell_type": "code",
   "execution_count": 11,
   "metadata": {},
   "outputs": [],
   "source": [
    "c.execute(\"\"\"SELECT * FROM author\n",
    "LIMIT 5; \"\"\");"
   ]
  },
  {
   "cell_type": "code",
   "execution_count": 12,
   "metadata": {},
   "outputs": [
    {
     "data": {
      "text/html": [
       "<div>\n",
       "<style scoped>\n",
       "    .dataframe tbody tr th:only-of-type {\n",
       "        vertical-align: middle;\n",
       "    }\n",
       "\n",
       "    .dataframe tbody tr th {\n",
       "        vertical-align: top;\n",
       "    }\n",
       "\n",
       "    .dataframe thead th {\n",
       "        text-align: right;\n",
       "    }\n",
       "</style>\n",
       "<table border=\"1\" class=\"dataframe\">\n",
       "  <thead>\n",
       "    <tr style=\"text-align: right;\">\n",
       "      <th></th>\n",
       "      <th>author</th>\n",
       "      <th>book</th>\n",
       "    </tr>\n",
       "  </thead>\n",
       "  <tbody>\n",
       "    <tr>\n",
       "      <th>0</th>\n",
       "      <td>David Taylor</td>\n",
       "      <td>A Guy Dove Outside The Desk</td>\n",
       "    </tr>\n",
       "    <tr>\n",
       "      <th>1</th>\n",
       "      <td>Sidney Osborne</td>\n",
       "      <td>A Fish Hopped Through A Lake</td>\n",
       "    </tr>\n",
       "    <tr>\n",
       "      <th>2</th>\n",
       "      <td>Robert Martin</td>\n",
       "      <td>The Woman Winced Outside A Desk</td>\n",
       "    </tr>\n",
       "    <tr>\n",
       "      <th>3</th>\n",
       "      <td>Greg Simpson</td>\n",
       "      <td>A Banana Winced Outside The Banana</td>\n",
       "    </tr>\n",
       "    <tr>\n",
       "      <th>4</th>\n",
       "      <td>Edgar Williamson</td>\n",
       "      <td>A Person Ate Behind The Potato</td>\n",
       "    </tr>\n",
       "  </tbody>\n",
       "</table>\n",
       "</div>"
      ],
      "text/plain": [
       "             author                                book\n",
       "0      David Taylor         A Guy Dove Outside The Desk\n",
       "1    Sidney Osborne        A Fish Hopped Through A Lake\n",
       "2     Robert Martin     The Woman Winced Outside A Desk\n",
       "3      Greg Simpson  A Banana Winced Outside The Banana\n",
       "4  Edgar Williamson      A Person Ate Behind The Potato"
      ]
     },
     "execution_count": 12,
     "metadata": {},
     "output_type": "execute_result"
    }
   ],
   "source": [
    "df = pd.DataFrame(c.fetchall())\n",
    "df.columns = [i[0] for i in c.description]\n",
    "df"
   ]
  },
  {
   "cell_type": "markdown",
   "metadata": {},
   "source": [
    "### Use SQL to answer the following questions: "
   ]
  },
  {
   "cell_type": "markdown",
   "metadata": {},
   "source": [
    "1. How many rows are in the 'author' table? \n",
    "\n",
    "2. How many authors have the first name 'David'?  \n",
    "\n",
    "3. How many books did each author write? \n",
    "\n",
    "4. Use both the author table and books table to answer: how many copies were sold by authors named David \n",
    "\n",
    "\n",
    "    a. how many copies for each of the Davids\n",
    "    \n",
    "    \n",
    "    b. how many copies in total for all Davids"
   ]
  },
  {
   "cell_type": "code",
   "execution_count": 16,
   "metadata": {},
   "outputs": [],
   "source": [
    "c.execute(\"\"\"SELECT count() FROM author;\"\"\");"
   ]
  },
  {
   "cell_type": "code",
   "execution_count": 17,
   "metadata": {},
   "outputs": [
    {
     "name": "stdout",
     "output_type": "stream",
     "text": [
      "[(100000,)]\n"
     ]
    }
   ],
   "source": [
    "print(c.fetchall())"
   ]
  },
  {
   "cell_type": "code",
   "execution_count": 18,
   "metadata": {},
   "outputs": [
    {
     "data": {
      "text/plain": [
       "<sqlite3.Cursor at 0x1c57cfed8f0>"
      ]
     },
     "execution_count": 18,
     "metadata": {},
     "output_type": "execute_result"
    }
   ],
   "source": [
    "c.execute(\"\"\"SELECT count() \n",
    "             FROM author \n",
    "             WHERE author LIKE 'David%'\"\"\")"
   ]
  },
  {
   "cell_type": "code",
   "execution_count": 20,
   "metadata": {},
   "outputs": [
    {
     "name": "stdout",
     "output_type": "stream",
     "text": [
      "[(1335,)]\n"
     ]
    }
   ],
   "source": [
    "print(c.fetchall())"
   ]
  },
  {
   "cell_type": "code",
   "execution_count": 21,
   "metadata": {},
   "outputs": [
    {
     "name": "stdout",
     "output_type": "stream",
     "text": [
      "[(1024,)]\n"
     ]
    }
   ],
   "source": [
    "c.execute(\"\"\"SELECT COUNT(DISTINCT(author)) \n",
    "             FROM author \n",
    "             WHERE author LIKE 'David%'\"\"\")\n",
    "print(c.fetchall())"
   ]
  },
  {
   "cell_type": "code",
   "execution_count": 25,
   "metadata": {},
   "outputs": [
    {
     "name": "stdout",
     "output_type": "stream",
     "text": [
      "[('David Adams', 3), ('David Allen', 2), ('David Alvarez', 2), ('David Anderson', 3), ('David Arnold', 2), ('David Baca', 2), ('David Bailey', 2), ('David Baron', 2), ('David Beck', 2), ('David Bell', 2), ('David Berk', 2), ('David Blair', 2), ('David Bowman', 2), ('David Brewer', 2), ('David Brown', 8), ('David Bunch', 2), ('David Burdick', 2), ('David Byrd', 2), ('David Caldwell', 2), ('David Campbell', 2), ('David Carlson', 2), ('David Carter', 2), ('David Castillo', 4), ('David Castro', 2), ('David Chapman', 3), ('David Clark', 2), ('David Collins', 4), ('David Colon', 2), ('David Cooper', 3), ('David Cox', 3), ('David Cruz', 3), ('David Curry', 2), ('David Davis', 2), ('David Day', 2), ('David Diamond', 2), ('David Diaz', 2), ('David Do', 2), ('David Douglas', 2), ('David Edwards', 2), ('David Ellis', 2), ('David Erickson', 3), ('David Evans', 2), ('David Fanning', 2), ('David Farmer', 3), ('David Ferguson', 2), ('David Fish', 2), ('David Fletcher', 2), ('David Fontenot', 2), ('David Fowler', 2), ('David Garcia', 5), ('David Gardner', 5), ('David Garrett', 2), ('David Garrison', 3), ('David Geyer', 2), ('David Gonzales', 3), ('David Gonzalez', 3), ('David Good', 2), ('David Graham', 2), ('David Grant', 2), ('David Gray', 2), ('David Gross', 3), ('David Gutierrez', 2), ('David Guy', 2), ('David Hamilton', 3), ('David Hammond', 2), ('David Hancock', 2), ('David Harris', 5), ('David Hayes', 3), ('David Haynes', 2), ('David Henkel', 2), ('David Hernandez', 3), ('David Hicks', 2), ('David Hoffman', 2), ('David Howard', 3), ('David Hunt', 2), ('David Hussey', 2), ('David Jackson', 2), ('David James', 3), ('David Johnson', 9), ('David Jolly', 2), ('David Jones', 8), ('David Jordan', 3), ('David Jordon', 2), ('David Kane', 2), ('David Kelly', 2), ('David Kennedy', 3), ('David King', 3), ('David Lee', 2), ('David Lewis', 3), ('David Little', 2), ('David Lopez', 3), ('David Marin', 2), ('David Marshall', 4), ('David Martin', 5), ('David Martinez', 7), ('David Mcbride', 3), ('David Mcgee', 3), ('David Mcguire', 2), ('David Mckinnon', 2), ('David Medina', 3), ('David Miller', 5), ('David Mills', 2), ('David Mitchell', 4), ('David Moore', 7), ('David Morgan', 3), ('David Morrison', 2), ('David Murray', 3), ('David Nelson', 6), ('David Nolan', 2), ('David Oconnell', 2), ('David Ortiz', 2), ('David Park', 2), ('David Parker', 3), ('David Payne', 3), ('David Perez', 2), ('David Peters', 3), ('David Porter', 2), ('David Powell', 2), ('David Powers', 2), ('David Price', 3), ('David Ramirez', 2), ('David Ray', 3), ('David Reyes', 2), ('David Reynolds', 2), ('David Rhodes', 2), ('David Richards', 2), ('David Richardson', 3), ('David Riley', 2), ('David Ritter', 2), ('David Rivera', 4), ('David Roberts', 3), ('David Robinson', 2), ('David Rodriguez', 4), ('David Rogers', 3), ('David Romero', 2), ('David Rose', 2), ('David Sanchez', 3), ('David Sawyer', 2), ('David Scott', 3), ('David Simon', 2), ('David Smith', 15), ('David Spencer', 2), ('David Stephens', 2), ('David Stevens', 2), ('David Swanson', 3), ('David Tanner', 2), ('David Taylor', 5), ('David Temple', 2), ('David Thomas', 4), ('David Thompson', 4), ('David Torres', 2), ('David Vasquez', 2), ('David Walker', 3), ('David Walter', 4), ('David Walton', 2), ('David Ward', 4), ('David Warren', 2), ('David Washington', 2), ('David Watson', 3), ('David Watts', 2), ('David Wells', 3), ('David Wheeler', 2), ('David White', 7), ('David Williams', 9), ('David Willis', 2), ('David Wilson', 5), ('David Wood', 2), ('David Wright', 3), ('David Young', 3)]\n"
     ]
    }
   ],
   "source": [
    "c.execute(\"\"\"SELECT author, COUNT(*) n\n",
    "             FROM author\n",
    "             WHERE author LIKE 'David%'\n",
    "             GROUP BY author \n",
    "             HAVING n>1\"\"\")\n",
    "print(c.fetchall())"
   ]
  },
  {
   "cell_type": "code",
   "execution_count": null,
   "metadata": {},
   "outputs": [],
   "source": []
  }
 ],
 "metadata": {
  "kernelspec": {
   "display_name": "Python 3",
   "language": "python",
   "name": "python3"
  },
  "language_info": {
   "codemirror_mode": {
    "name": "ipython",
    "version": 3
   },
   "file_extension": ".py",
   "mimetype": "text/x-python",
   "name": "python",
   "nbconvert_exporter": "python",
   "pygments_lexer": "ipython3",
   "version": "3.7.3"
  }
 },
 "nbformat": 4,
 "nbformat_minor": 2
}
