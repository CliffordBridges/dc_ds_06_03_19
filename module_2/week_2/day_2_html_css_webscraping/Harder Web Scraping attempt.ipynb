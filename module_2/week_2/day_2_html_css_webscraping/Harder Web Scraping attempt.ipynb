{
 "cells": [
  {
   "cell_type": "markdown",
   "metadata": {},
   "source": [
    "## The Numbers Data\n",
    "[the numbers](https://www.the-numbers.com/movie/budgets/all)"
   ]
  },
  {
   "cell_type": "code",
   "execution_count": 1,
   "metadata": {},
   "outputs": [],
   "source": [
    "MAX_PAGE = 5701\n",
    "BASE_URL = 'https://www.the-numbers.com/movie/budgets/all'"
   ]
  },
  {
   "cell_type": "code",
   "execution_count": 2,
   "metadata": {},
   "outputs": [],
   "source": [
    "import pandas as pd\n",
    "from bs4 import BeautifulSoup\n",
    "import requests\n",
    "import sqlite3\n",
    "import matplotlib.pyplot as plt"
   ]
  },
  {
   "cell_type": "code",
   "execution_count": 3,
   "metadata": {},
   "outputs": [
    {
     "data": {
      "text/plain": [
       "200"
      ]
     },
     "execution_count": 3,
     "metadata": {},
     "output_type": "execute_result"
    }
   ],
   "source": [
    "response = requests.get(BASE_URL)\n",
    "response.status_code"
   ]
  },
  {
   "cell_type": "code",
   "execution_count": 4,
   "metadata": {},
   "outputs": [],
   "source": [
    "soup = BeautifulSoup(response.content, 'html.parser')"
   ]
  },
  {
   "cell_type": "code",
   "execution_count": 5,
   "metadata": {},
   "outputs": [],
   "source": [
    "tables = soup.find_all('table')"
   ]
  },
  {
   "cell_type": "code",
   "execution_count": 6,
   "metadata": {},
   "outputs": [],
   "source": [
    "table = tables[0]"
   ]
  },
  {
   "cell_type": "code",
   "execution_count": 7,
   "metadata": {},
   "outputs": [
    {
     "data": {
      "text/plain": [
       "6"
      ]
     },
     "execution_count": 7,
     "metadata": {},
     "output_type": "execute_result"
    }
   ],
   "source": [
    "len(table.find_all('th'))"
   ]
  },
  {
   "cell_type": "code",
   "execution_count": 8,
   "metadata": {},
   "outputs": [
    {
     "data": {
      "text/plain": [
       "['index',\n",
       " 'Release Date',\n",
       " 'Movie',\n",
       " 'Production Budget',\n",
       " 'Domestic Gross',\n",
       " 'Worldwide Gross']"
      ]
     },
     "execution_count": 8,
     "metadata": {},
     "output_type": "execute_result"
    }
   ],
   "source": [
    "table_headers = [th.text for th in table.find_all('th')]\n",
    "table_headers[0] = 'index'\n",
    "table_headers"
   ]
  },
  {
   "cell_type": "code",
   "execution_count": 9,
   "metadata": {},
   "outputs": [
    {
     "data": {
      "text/plain": [
       "<tr><td class=\"data\">1</td>\n",
       "<td><a href=\"/box-office-chart/daily/2009/12/18\">Dec 18, 2009</a></td>\n",
       "<td><b><a href=\"/movie/Avatar#tab=summary\">Avatar</a></b></td>\n",
       "<td class=\"data\">$425,000,000</td>\n",
       "<td class=\"data\">$760,507,625</td>\n",
       "<td class=\"data\">$2,776,345,279</td>\n",
       "</tr>"
      ]
     },
     "execution_count": 9,
     "metadata": {},
     "output_type": "execute_result"
    }
   ],
   "source": [
    "table_rows = [tr for tr in table.find_all('tr')[1:]]\n",
    "table_rows[0]"
   ]
  },
  {
   "cell_type": "code",
   "execution_count": 10,
   "metadata": {},
   "outputs": [],
   "source": [
    "def process_the_numbers_row(table_rows):\n",
    "    data = []\n",
    "    for row in table_rows:\n",
    "        data_row = []\n",
    "        # append index\n",
    "        data_row.append(row.find('td').text)\n",
    "        # append Release Date\n",
    "        data_row.append(row.find('a').text)\n",
    "        # append Movie Title\n",
    "        data_row.append(row.find_all('a')[1].text)\n",
    "        # append Production Budget\n",
    "        data_row.append(row.find_all('td')[3].text)\n",
    "        # append Domestic Gross\n",
    "        data_row.append(row.find_all('td')[4].text)\n",
    "        # append Worldwide Gross\n",
    "        data_row.append(row.find_all('td')[5].text)\n",
    "        # append link\n",
    "        data_row.append(row.find('a')['href'])\n",
    "        #append data_row to data\n",
    "        data.append(data_row)\n",
    "    \n",
    "    return data"
   ]
  },
  {
   "cell_type": "code",
   "execution_count": 11,
   "metadata": {},
   "outputs": [],
   "source": [
    "table_headers[2] = 'Movie Title'\n",
    "table_headers.append('Link')"
   ]
  },
  {
   "cell_type": "code",
   "execution_count": 12,
   "metadata": {},
   "outputs": [
    {
     "ename": "NameError",
     "evalue": "name 'data' is not defined",
     "output_type": "error",
     "traceback": [
      "\u001b[1;31m---------------------------------------------------------------------------\u001b[0m",
      "\u001b[1;31mNameError\u001b[0m                                 Traceback (most recent call last)",
      "\u001b[1;32m<ipython-input-12-c6201f8cef64>\u001b[0m in \u001b[0;36m<module>\u001b[1;34m\u001b[0m\n\u001b[1;32m----> 1\u001b[1;33m \u001b[0mlen\u001b[0m\u001b[1;33m(\u001b[0m\u001b[0mdata\u001b[0m\u001b[1;33m)\u001b[0m\u001b[1;33m\u001b[0m\u001b[1;33m\u001b[0m\u001b[0m\n\u001b[0m",
      "\u001b[1;31mNameError\u001b[0m: name 'data' is not defined"
     ]
    }
   ],
   "source": [
    "len(data)"
   ]
  },
  {
   "cell_type": "code",
   "execution_count": 13,
   "metadata": {},
   "outputs": [],
   "source": [
    "def process_the_numbers_page(soup):\n",
    "    \"\"\"\n",
    "    Take in a page from the-numbers.com\n",
    "    \"\"\"\n",
    "    tables = soup.find_all('table')\n",
    "    table = tables[0]\n",
    "    table_rows = [tr for tr in table.find_all('tr')[1:]]\n",
    "    page_data = process_the_numbers_row(table_rows)\n",
    "    \n",
    "    return page_data"
   ]
  },
  {
   "cell_type": "code",
   "execution_count": 14,
   "metadata": {},
   "outputs": [
    {
     "data": {
      "text/plain": [
       "'https://www.the-numbers.com/movie/budgets/all/i'"
      ]
     },
     "execution_count": 14,
     "metadata": {},
     "output_type": "execute_result"
    }
   ],
   "source": [
    "BASE_URL+'/'+'i'"
   ]
  },
  {
   "cell_type": "code",
   "execution_count": 15,
   "metadata": {},
   "outputs": [
    {
     "name": "stdout",
     "output_type": "stream",
     "text": [
      "movies 1 to 100\n",
      "movies 101 to 200\n",
      "movies 201 to 300\n",
      "movies 301 to 400\n",
      "movies 401 to 500\n",
      "movies 501 to 600\n",
      "movies 601 to 700\n",
      "movies 701 to 800\n",
      "movies 801 to 900\n",
      "movies 901 to 1000\n",
      "movies 1001 to 1100\n",
      "movies 1101 to 1200\n",
      "movies 1201 to 1300\n",
      "movies 1301 to 1400\n",
      "movies 1401 to 1500\n",
      "movies 1501 to 1600\n",
      "movies 1601 to 1700\n",
      "movies 1701 to 1800\n",
      "movies 1801 to 1900\n",
      "movies 1901 to 2000\n",
      "movies 2001 to 2100\n",
      "movies 2101 to 2200\n",
      "movies 2201 to 2300\n",
      "movies 2301 to 2400\n",
      "movies 2401 to 2500\n",
      "movies 2501 to 2600\n",
      "movies 2601 to 2700\n",
      "movies 2701 to 2800\n",
      "movies 2801 to 2900\n",
      "movies 2901 to 3000\n",
      "movies 3001 to 3100\n",
      "movies 3101 to 3200\n",
      "movies 3201 to 3300\n",
      "movies 3301 to 3400\n",
      "movies 3401 to 3500\n",
      "movies 3501 to 3600\n",
      "movies 3601 to 3700\n",
      "movies 3701 to 3800\n",
      "movies 3801 to 3900\n",
      "movies 3901 to 4000\n",
      "movies 4001 to 4100\n",
      "movies 4101 to 4200\n",
      "movies 4201 to 4300\n",
      "movies 4301 to 4400\n",
      "movies 4401 to 4500\n",
      "movies 4501 to 4600\n",
      "movies 4601 to 4700\n",
      "movies 4701 to 4800\n",
      "movies 4801 to 4900\n",
      "movies 4901 to 5000\n",
      "movies 5001 to 5100\n",
      "movies 5101 to 5200\n",
      "movies 5201 to 5300\n",
      "movies 5301 to 5400\n",
      "movies 5401 to 5500\n",
      "movies 5501 to 5600\n",
      "movies 5601 to 5700\n",
      "movies 5701 to 5800\n"
     ]
    }
   ],
   "source": [
    "import time\n",
    "the_movies_data = []\n",
    "for i in range(1, MAX_PAGE+1, 100):\n",
    "    print(f'movies {i} to {i+99}')\n",
    "    response = requests.get(BASE_URL+'/'+str(i))\n",
    "    soup = BeautifulSoup(response.content, 'html.parser')\n",
    "    the_movies_data.extend(process_the_numbers_page(soup))\n",
    "    time.sleep(1)"
   ]
  },
  {
   "cell_type": "code",
   "execution_count": 16,
   "metadata": {},
   "outputs": [],
   "source": [
    "# Fix the headers from before\n",
    "table_headers[0] = 'i'"
   ]
  },
  {
   "cell_type": "code",
   "execution_count": 17,
   "metadata": {},
   "outputs": [],
   "source": [
    "conn = sqlite3.connect(':memory:')\n",
    "cur = conn.cursor()\n",
    "column_names = ','.join([header.replace(' ','') + ' varchar\\n' for header in table_headers])"
   ]
  },
  {
   "cell_type": "code",
   "execution_count": 18,
   "metadata": {},
   "outputs": [
    {
     "data": {
      "text/plain": [
       "'i varchar\\n,ReleaseDate varchar\\n,MovieTitle varchar\\n,ProductionBudget varchar\\n,DomesticGross varchar\\n,WorldwideGross varchar\\n,Link varchar\\n'"
      ]
     },
     "execution_count": 18,
     "metadata": {},
     "output_type": "execute_result"
    }
   ],
   "source": [
    "column_names"
   ]
  },
  {
   "cell_type": "code",
   "execution_count": 43,
   "metadata": {},
   "outputs": [
    {
     "data": {
      "text/plain": [
       "<sqlite3.Cursor at 0x1ef26210500>"
      ]
     },
     "execution_count": 43,
     "metadata": {},
     "output_type": "execute_result"
    }
   ],
   "source": [
    "sql = \"\"\"CREATE TABLE movies_5 (i TEXT,ReleaseDate varchar,MovieTitle varchar,ProductionBudget varchar,DomesticGross varchar,WorldwideGross varchar,Link varchar)\"\"\"\n",
    "cur.execute(sql)#.format(col_names=column_names))"
   ]
  },
  {
   "cell_type": "code",
   "execution_count": 39,
   "metadata": {},
   "outputs": [],
   "source": [
    "insert_sql = \"\"\"INSERT INTO movies_5 VALUES (?,?,?,?,?,?,?);\"\"\"\n",
    "\n",
    "for d in the_movies_data:\n",
    "    cur.execute(insert_sql, d)"
   ]
  },
  {
   "cell_type": "code",
   "execution_count": 44,
   "metadata": {},
   "outputs": [
    {
     "name": "stdout",
     "output_type": "stream",
     "text": [
      "(('i', None, None, None, None, None, None), ('ReleaseDate', None, None, None, None, None, None), ('MovieTitle', None, None, None, None, None, None), ('ProductionBudget', None, None, None, None, None, None), ('DomesticGross', None, None, None, None, None, None), ('WorldwideGross', None, None, None, None, None, None), ('Link', None, None, None, None, None, None))\n"
     ]
    }
   ],
   "source": [
    "cur.execute(\"\"\"\n",
    "SELECT *\n",
    "FROM movies_5\"\"\")\n",
    "\n",
    "print(cur.description)\n",
    "df = pd.DataFrame(cur.fetchall())"
   ]
  },
  {
   "cell_type": "code",
   "execution_count": 45,
   "metadata": {},
   "outputs": [
    {
     "data": {
      "text/html": [
       "<div>\n",
       "<style scoped>\n",
       "    .dataframe tbody tr th:only-of-type {\n",
       "        vertical-align: middle;\n",
       "    }\n",
       "\n",
       "    .dataframe tbody tr th {\n",
       "        vertical-align: top;\n",
       "    }\n",
       "\n",
       "    .dataframe thead th {\n",
       "        text-align: right;\n",
       "    }\n",
       "</style>\n",
       "<table border=\"1\" class=\"dataframe\">\n",
       "  <thead>\n",
       "    <tr style=\"text-align: right;\">\n",
       "      <th></th>\n",
       "    </tr>\n",
       "  </thead>\n",
       "  <tbody>\n",
       "  </tbody>\n",
       "</table>\n",
       "</div>"
      ],
      "text/plain": [
       "Empty DataFrame\n",
       "Columns: []\n",
       "Index: []"
      ]
     },
     "execution_count": 45,
     "metadata": {},
     "output_type": "execute_result"
    }
   ],
   "source": [
    "df.head()"
   ]
  },
  {
   "cell_type": "code",
   "execution_count": null,
   "metadata": {},
   "outputs": [],
   "source": []
  }
 ],
 "metadata": {
  "kernelspec": {
   "display_name": "Python 3",
   "language": "python",
   "name": "python3"
  },
  "language_info": {
   "codemirror_mode": {
    "name": "ipython",
    "version": 3
   },
   "file_extension": ".py",
   "mimetype": "text/x-python",
   "name": "python",
   "nbconvert_exporter": "python",
   "pygments_lexer": "ipython3",
   "version": "3.7.3"
  }
 },
 "nbformat": 4,
 "nbformat_minor": 2
}
