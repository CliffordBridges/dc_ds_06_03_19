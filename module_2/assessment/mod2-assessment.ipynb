{
 "cells": [
  {
   "cell_type": "markdown",
   "metadata": {},
   "source": [
    "## Mod 2 Assessment"
   ]
  },
  {
   "cell_type": "code",
   "execution_count": 1,
   "metadata": {},
   "outputs": [],
   "source": [
    "# put all imports here\n",
    "import json\n",
    "import requests\n",
    "import pandas as pd\n",
    "import pymongo\n",
    "import sqlite3\n",
    "from bs4 import BeautifulSoup\n",
    "from bson.json_util import loads"
   ]
  },
  {
   "cell_type": "markdown",
   "metadata": {},
   "source": [
    "### SQL (10 Minutes)\n",
    "There is a sqlite3 database in `assets/books.db`. The SQL to create this is also in `assets/books.sql`, if you want to run it manually (you can also import this using https://sqliteonline.com/, or run the SQL file directly).  Both have the same schema and data.\n",
    "\n",
    "The schema has three tables. You can explore the schema in the fiddle posted above.  Please answer the following questions.\n",
    "\n",
    "1. Connect to the database using sqlite3"
   ]
  },
  {
   "cell_type": "code",
   "execution_count": 2,
   "metadata": {},
   "outputs": [],
   "source": [
    "conn = sqlite3.connect('assets/books.db')\n",
    "cur = conn.cursor()"
   ]
  },
  {
   "cell_type": "markdown",
   "metadata": {},
   "source": [
    "2. Querying the DB: how many pages are in the book \"Nine Stories\"?"
   ]
  },
  {
   "cell_type": "code",
   "execution_count": 8,
   "metadata": {},
   "outputs": [],
   "source": [
    "def prettify(data):\n",
    "    db = pd.DataFrame(data)\n",
    "    db.columns = [d[0] for d in cur.description]\n",
    "    return db"
   ]
  },
  {
   "cell_type": "code",
   "execution_count": 10,
   "metadata": {},
   "outputs": [
    {
     "data": {
      "text/html": [
       "<div>\n",
       "<style scoped>\n",
       "    .dataframe tbody tr th:only-of-type {\n",
       "        vertical-align: middle;\n",
       "    }\n",
       "\n",
       "    .dataframe tbody tr th {\n",
       "        vertical-align: top;\n",
       "    }\n",
       "\n",
       "    .dataframe thead th {\n",
       "        text-align: right;\n",
       "    }\n",
       "</style>\n",
       "<table border=\"1\" class=\"dataframe\">\n",
       "  <thead>\n",
       "    <tr style=\"text-align: right;\">\n",
       "      <th></th>\n",
       "      <th>type</th>\n",
       "      <th>name</th>\n",
       "      <th>tbl_name</th>\n",
       "      <th>rootpage</th>\n",
       "      <th>sql</th>\n",
       "    </tr>\n",
       "  </thead>\n",
       "  <tbody>\n",
       "    <tr>\n",
       "      <th>0</th>\n",
       "      <td>table</td>\n",
       "      <td>author</td>\n",
       "      <td>author</td>\n",
       "      <td>2</td>\n",
       "      <td>CREATE TABLE author (\\n    author_id INT,\\n   ...</td>\n",
       "    </tr>\n",
       "    <tr>\n",
       "      <th>1</th>\n",
       "      <td>table</td>\n",
       "      <td>book</td>\n",
       "      <td>book</td>\n",
       "      <td>3</td>\n",
       "      <td>CREATE TABLE book (\\n    book_id INT,\\n    tit...</td>\n",
       "    </tr>\n",
       "    <tr>\n",
       "      <th>2</th>\n",
       "      <td>table</td>\n",
       "      <td>book_author</td>\n",
       "      <td>book_author</td>\n",
       "      <td>4</td>\n",
       "      <td>CREATE TABLE book_author (\\n    author_id INT,...</td>\n",
       "    </tr>\n",
       "  </tbody>\n",
       "</table>\n",
       "</div>"
      ],
      "text/plain": [
       "    type         name     tbl_name  rootpage  \\\n",
       "0  table       author       author         2   \n",
       "1  table         book         book         3   \n",
       "2  table  book_author  book_author         4   \n",
       "\n",
       "                                                 sql  \n",
       "0  CREATE TABLE author (\\n    author_id INT,\\n   ...  \n",
       "1  CREATE TABLE book (\\n    book_id INT,\\n    tit...  \n",
       "2  CREATE TABLE book_author (\\n    author_id INT,...  "
      ]
     },
     "execution_count": 10,
     "metadata": {},
     "output_type": "execute_result"
    }
   ],
   "source": [
    "cur.execute(\"\"\"\n",
    "    SELECT *\n",
    "    FROM sqlite_master\n",
    "    WHERE TYPE='table'\n",
    "    \"\"\")\n",
    "prettify(cur.fetchall())"
   ]
  },
  {
   "cell_type": "code",
   "execution_count": 18,
   "metadata": {},
   "outputs": [
    {
     "data": {
      "text/html": [
       "<div>\n",
       "<style scoped>\n",
       "    .dataframe tbody tr th:only-of-type {\n",
       "        vertical-align: middle;\n",
       "    }\n",
       "\n",
       "    .dataframe tbody tr th {\n",
       "        vertical-align: top;\n",
       "    }\n",
       "\n",
       "    .dataframe thead th {\n",
       "        text-align: right;\n",
       "    }\n",
       "</style>\n",
       "<table border=\"1\" class=\"dataframe\">\n",
       "  <thead>\n",
       "    <tr style=\"text-align: right;\">\n",
       "      <th></th>\n",
       "      <th>book_id</th>\n",
       "      <th>title</th>\n",
       "      <th>pages</th>\n",
       "    </tr>\n",
       "  </thead>\n",
       "  <tbody>\n",
       "    <tr>\n",
       "      <th>0</th>\n",
       "      <td>1</td>\n",
       "      <td>The Catcher in the Rye</td>\n",
       "      <td>500</td>\n",
       "    </tr>\n",
       "    <tr>\n",
       "      <th>1</th>\n",
       "      <td>2</td>\n",
       "      <td>Nine Stories</td>\n",
       "      <td>600</td>\n",
       "    </tr>\n",
       "    <tr>\n",
       "      <th>2</th>\n",
       "      <td>3</td>\n",
       "      <td>Franny and Zooey</td>\n",
       "      <td>700</td>\n",
       "    </tr>\n",
       "    <tr>\n",
       "      <th>3</th>\n",
       "      <td>4</td>\n",
       "      <td>The Great Gatsby</td>\n",
       "      <td>800</td>\n",
       "    </tr>\n",
       "    <tr>\n",
       "      <th>4</th>\n",
       "      <td>5</td>\n",
       "      <td>Tender id the Night</td>\n",
       "      <td>200</td>\n",
       "    </tr>\n",
       "  </tbody>\n",
       "</table>\n",
       "</div>"
      ],
      "text/plain": [
       "   book_id                   title  pages\n",
       "0        1  The Catcher in the Rye    500\n",
       "1        2            Nine Stories    600\n",
       "2        3        Franny and Zooey    700\n",
       "3        4        The Great Gatsby    800\n",
       "4        5     Tender id the Night    200"
      ]
     },
     "execution_count": 18,
     "metadata": {},
     "output_type": "execute_result"
    }
   ],
   "source": [
    "cur.execute(\"\"\"\n",
    "    SELECT *\n",
    "    FROM book\n",
    "    \"\"\")\n",
    "db = prettify(cur.fetchall())\n",
    "db.head()"
   ]
  },
  {
   "cell_type": "code",
   "execution_count": 13,
   "metadata": {},
   "outputs": [
    {
     "data": {
      "text/html": [
       "<div>\n",
       "<style scoped>\n",
       "    .dataframe tbody tr th:only-of-type {\n",
       "        vertical-align: middle;\n",
       "    }\n",
       "\n",
       "    .dataframe tbody tr th {\n",
       "        vertical-align: top;\n",
       "    }\n",
       "\n",
       "    .dataframe thead th {\n",
       "        text-align: right;\n",
       "    }\n",
       "</style>\n",
       "<table border=\"1\" class=\"dataframe\">\n",
       "  <thead>\n",
       "    <tr style=\"text-align: right;\">\n",
       "      <th></th>\n",
       "      <th>book_id</th>\n",
       "      <th>title</th>\n",
       "      <th>pages</th>\n",
       "    </tr>\n",
       "  </thead>\n",
       "  <tbody>\n",
       "    <tr>\n",
       "      <th>0</th>\n",
       "      <td>2</td>\n",
       "      <td>Nine Stories</td>\n",
       "      <td>600</td>\n",
       "    </tr>\n",
       "  </tbody>\n",
       "</table>\n",
       "</div>"
      ],
      "text/plain": [
       "   book_id         title  pages\n",
       "0        2  Nine Stories    600"
      ]
     },
     "execution_count": 13,
     "metadata": {},
     "output_type": "execute_result"
    }
   ],
   "source": [
    "cur.execute(\"\"\"\n",
    "    SELECT *\n",
    "    FROM book\n",
    "    WHERE title like 'Nine Stories'\n",
    "    \"\"\")\n",
    "prettify(cur.fetchall())"
   ]
  },
  {
   "cell_type": "markdown",
   "metadata": {},
   "source": [
    "3. How many authors are from the USA?"
   ]
  },
  {
   "cell_type": "code",
   "execution_count": 15,
   "metadata": {},
   "outputs": [
    {
     "data": {
      "text/html": [
       "<div>\n",
       "<style scoped>\n",
       "    .dataframe tbody tr th:only-of-type {\n",
       "        vertical-align: middle;\n",
       "    }\n",
       "\n",
       "    .dataframe tbody tr th {\n",
       "        vertical-align: top;\n",
       "    }\n",
       "\n",
       "    .dataframe thead th {\n",
       "        text-align: right;\n",
       "    }\n",
       "</style>\n",
       "<table border=\"1\" class=\"dataframe\">\n",
       "  <thead>\n",
       "    <tr style=\"text-align: right;\">\n",
       "      <th></th>\n",
       "      <th>author_id</th>\n",
       "      <th>name</th>\n",
       "      <th>country</th>\n",
       "    </tr>\n",
       "  </thead>\n",
       "  <tbody>\n",
       "    <tr>\n",
       "      <th>0</th>\n",
       "      <td>1</td>\n",
       "      <td>J.D. Salinger</td>\n",
       "      <td>USA</td>\n",
       "    </tr>\n",
       "    <tr>\n",
       "      <th>1</th>\n",
       "      <td>2</td>\n",
       "      <td>F. Scott. Fitzgerald</td>\n",
       "      <td>USA</td>\n",
       "    </tr>\n",
       "    <tr>\n",
       "      <th>2</th>\n",
       "      <td>3</td>\n",
       "      <td>Jane Austen</td>\n",
       "      <td>UK</td>\n",
       "    </tr>\n",
       "    <tr>\n",
       "      <th>3</th>\n",
       "      <td>4</td>\n",
       "      <td>Scott Hanselman</td>\n",
       "      <td>USA</td>\n",
       "    </tr>\n",
       "    <tr>\n",
       "      <th>4</th>\n",
       "      <td>5</td>\n",
       "      <td>Jason N. Gaylord</td>\n",
       "      <td>USA</td>\n",
       "    </tr>\n",
       "  </tbody>\n",
       "</table>\n",
       "</div>"
      ],
      "text/plain": [
       "   author_id                  name country\n",
       "0          1         J.D. Salinger     USA\n",
       "1          2  F. Scott. Fitzgerald     USA\n",
       "2          3           Jane Austen      UK\n",
       "3          4       Scott Hanselman     USA\n",
       "4          5      Jason N. Gaylord     USA"
      ]
     },
     "execution_count": 15,
     "metadata": {},
     "output_type": "execute_result"
    }
   ],
   "source": [
    "cur.execute(\"\"\"\n",
    "    SELECT *\n",
    "    FROM author\n",
    "    \"\"\")\n",
    "db = prettify(cur.fetchall())\n",
    "db.head()"
   ]
  },
  {
   "cell_type": "code",
   "execution_count": 24,
   "metadata": {},
   "outputs": [
    {
     "data": {
      "text/html": [
       "<div>\n",
       "<style scoped>\n",
       "    .dataframe tbody tr th:only-of-type {\n",
       "        vertical-align: middle;\n",
       "    }\n",
       "\n",
       "    .dataframe tbody tr th {\n",
       "        vertical-align: top;\n",
       "    }\n",
       "\n",
       "    .dataframe thead th {\n",
       "        text-align: right;\n",
       "    }\n",
       "</style>\n",
       "<table border=\"1\" class=\"dataframe\">\n",
       "  <thead>\n",
       "    <tr style=\"text-align: right;\">\n",
       "      <th></th>\n",
       "      <th>country</th>\n",
       "      <th>COUNT(*)</th>\n",
       "    </tr>\n",
       "  </thead>\n",
       "  <tbody>\n",
       "    <tr>\n",
       "      <th>0</th>\n",
       "      <td>USA</td>\n",
       "      <td>6</td>\n",
       "    </tr>\n",
       "  </tbody>\n",
       "</table>\n",
       "</div>"
      ],
      "text/plain": [
       "  country  COUNT(*)\n",
       "0     USA         6"
      ]
     },
     "execution_count": 24,
     "metadata": {},
     "output_type": "execute_result"
    }
   ],
   "source": [
    "cur.execute(\"\"\"\n",
    "    SELECT country, COUNT(*)\n",
    "    FROM author\n",
    "    WHERE country like 'USA'\n",
    "    \"\"\")\n",
    "prettify(cur.fetchall())"
   ]
  },
  {
   "cell_type": "markdown",
   "metadata": {},
   "source": [
    "4. How many authors does the book \"Professional ASP.NET 4.5 in C# and VB\" have?"
   ]
  },
  {
   "cell_type": "code",
   "execution_count": 19,
   "metadata": {
    "scrolled": true
   },
   "outputs": [
    {
     "data": {
      "text/html": [
       "<div>\n",
       "<style scoped>\n",
       "    .dataframe tbody tr th:only-of-type {\n",
       "        vertical-align: middle;\n",
       "    }\n",
       "\n",
       "    .dataframe tbody tr th {\n",
       "        vertical-align: top;\n",
       "    }\n",
       "\n",
       "    .dataframe thead th {\n",
       "        text-align: right;\n",
       "    }\n",
       "</style>\n",
       "<table border=\"1\" class=\"dataframe\">\n",
       "  <thead>\n",
       "    <tr style=\"text-align: right;\">\n",
       "      <th></th>\n",
       "      <th>author_id</th>\n",
       "      <th>book_id</th>\n",
       "    </tr>\n",
       "  </thead>\n",
       "  <tbody>\n",
       "    <tr>\n",
       "      <th>0</th>\n",
       "      <td>1</td>\n",
       "      <td>1</td>\n",
       "    </tr>\n",
       "    <tr>\n",
       "      <th>1</th>\n",
       "      <td>1</td>\n",
       "      <td>2</td>\n",
       "    </tr>\n",
       "    <tr>\n",
       "      <th>2</th>\n",
       "      <td>1</td>\n",
       "      <td>3</td>\n",
       "    </tr>\n",
       "    <tr>\n",
       "      <th>3</th>\n",
       "      <td>2</td>\n",
       "      <td>4</td>\n",
       "    </tr>\n",
       "    <tr>\n",
       "      <th>4</th>\n",
       "      <td>2</td>\n",
       "      <td>5</td>\n",
       "    </tr>\n",
       "  </tbody>\n",
       "</table>\n",
       "</div>"
      ],
      "text/plain": [
       "   author_id  book_id\n",
       "0          1        1\n",
       "1          1        2\n",
       "2          1        3\n",
       "3          2        4\n",
       "4          2        5"
      ]
     },
     "execution_count": 19,
     "metadata": {},
     "output_type": "execute_result"
    }
   ],
   "source": [
    "cur.execute(\"\"\"\n",
    "    SELECT *\n",
    "    FROM book_author\n",
    "    \"\"\")\n",
    "db = prettify(cur.fetchall())\n",
    "db.head()"
   ]
  },
  {
   "cell_type": "code",
   "execution_count": 25,
   "metadata": {},
   "outputs": [
    {
     "data": {
      "text/html": [
       "<div>\n",
       "<style scoped>\n",
       "    .dataframe tbody tr th:only-of-type {\n",
       "        vertical-align: middle;\n",
       "    }\n",
       "\n",
       "    .dataframe tbody tr th {\n",
       "        vertical-align: top;\n",
       "    }\n",
       "\n",
       "    .dataframe thead th {\n",
       "        text-align: right;\n",
       "    }\n",
       "</style>\n",
       "<table border=\"1\" class=\"dataframe\">\n",
       "  <thead>\n",
       "    <tr style=\"text-align: right;\">\n",
       "      <th></th>\n",
       "      <th>title</th>\n",
       "      <th>num_authors</th>\n",
       "    </tr>\n",
       "  </thead>\n",
       "  <tbody>\n",
       "    <tr>\n",
       "      <th>0</th>\n",
       "      <td>Professional ASP.NET 4.5 in C# and VB</td>\n",
       "      <td>5</td>\n",
       "    </tr>\n",
       "  </tbody>\n",
       "</table>\n",
       "</div>"
      ],
      "text/plain": [
       "                                   title  num_authors\n",
       "0  Professional ASP.NET 4.5 in C# and VB            5"
      ]
     },
     "execution_count": 25,
     "metadata": {},
     "output_type": "execute_result"
    }
   ],
   "source": [
    "cur.execute(\"\"\"\n",
    "    SELECT title, count(author_id) as num_authors\n",
    "    FROM book\n",
    "    JOIN book_author USING(book_id)\n",
    "    WHERE title LIKE 'Professional ASP.NET 4.5 in C# and VB'\n",
    "    \"\"\")\n",
    "prettify(cur.fetchall())"
   ]
  },
  {
   "cell_type": "markdown",
   "metadata": {},
   "source": [
    "5. How many pages total have been written by non-American authors?"
   ]
  },
  {
   "cell_type": "code",
   "execution_count": 27,
   "metadata": {},
   "outputs": [
    {
     "data": {
      "text/html": [
       "<div>\n",
       "<style scoped>\n",
       "    .dataframe tbody tr th:only-of-type {\n",
       "        vertical-align: middle;\n",
       "    }\n",
       "\n",
       "    .dataframe tbody tr th {\n",
       "        vertical-align: top;\n",
       "    }\n",
       "\n",
       "    .dataframe thead th {\n",
       "        text-align: right;\n",
       "    }\n",
       "</style>\n",
       "<table border=\"1\" class=\"dataframe\">\n",
       "  <thead>\n",
       "    <tr style=\"text-align: right;\">\n",
       "      <th></th>\n",
       "      <th>total_pages</th>\n",
       "    </tr>\n",
       "  </thead>\n",
       "  <tbody>\n",
       "    <tr>\n",
       "      <th>0</th>\n",
       "      <td>262520</td>\n",
       "    </tr>\n",
       "  </tbody>\n",
       "</table>\n",
       "</div>"
      ],
      "text/plain": [
       "   total_pages\n",
       "0       262520"
      ]
     },
     "execution_count": 27,
     "metadata": {},
     "output_type": "execute_result"
    }
   ],
   "source": [
    "cur.execute(\"\"\"\n",
    "    SELECT SUM(pages) as total_pages\n",
    "    FROM book\n",
    "    JOIN book_author USING(book_id)\n",
    "    JOIN author\n",
    "    WHERE title NOT LIKE 'USA'\n",
    "    \"\"\")\n",
    "prettify(cur.fetchall())"
   ]
  },
  {
   "cell_type": "markdown",
   "metadata": {},
   "source": [
    "### Object Oriented Programming (15 Minutes)\n",
    "Below is the stub of some classes. Make the classes adhere to the following rules. The code beneath the cell should  run successfully.\n",
    "1. Force every new instance of `WeWorkMember` to pass in a value to set the attribute `name`.\n",
    "1. Give every new instance of `WeWorkMember` an attribute `caffeinated` that is set to `False`. \n",
    "1. Give `WeWorkMember` an **instance** method called `caffeinate()` that prints out \"Getting coffee!\" and sets the attribute `caffeinated` to `True`.\n",
    "1. Make it so that `Staff` and `Student` inherit from `WeWorkMember`\n",
    "1. Give `Staff` a **static** method called `cheer()` that prints out \"Goooooooo Flatiron Students!\"\n",
    "1. Give `Students` a **class** method called `learn()` that takes in an integer and returns that number +1"
   ]
  },
  {
   "cell_type": "code",
   "execution_count": 31,
   "metadata": {},
   "outputs": [],
   "source": [
    "# Modify this cell\n",
    "class WeWorkMember:\n",
    "    def __init__(self, name):\n",
    "        self.name = name\n",
    "        \n",
    "    caffeinated = False\n",
    "    \n",
    "    def caffeinate(self):\n",
    "        print('Getting coffee!')\n",
    "        self.caffeinated = True\n",
    "\n",
    "class Staff(WeWorkMember):\n",
    "    @staticmethod\n",
    "    def cheer():\n",
    "        print('Goooooooo Flatiron Students!')\n",
    "\n",
    "class Student(WeWorkMember):\n",
    "    @classmethod\n",
    "    def learn(cls, num):\n",
    "        return num + 1\n",
    "\n",
    "    "
   ]
  },
  {
   "cell_type": "code",
   "execution_count": 32,
   "metadata": {},
   "outputs": [
    {
     "name": "stdout",
     "output_type": "stream",
     "text": [
      "Getting coffee!\n",
      "Goooooooo Flatiron Students!\n",
      "Getting coffee!\n"
     ]
    },
    {
     "data": {
      "text/plain": [
       "100"
      ]
     },
     "execution_count": 32,
     "metadata": {},
     "output_type": "execute_result"
    }
   ],
   "source": [
    "# DO NOT MODIFY this cell. if you want to add more tests, add them in a new cell!\n",
    "try:\n",
    "    nobody = Staff()\n",
    "    raise RuntimeError('Staff needs a name!')\n",
    "except TypeError:\n",
    "    pass\n",
    "\n",
    "andy = Staff('Andy')\n",
    "assert andy.caffeinated is False\n",
    "andy.caffeinate()\n",
    "assert andy.caffeinated is True\n",
    "\n",
    "Staff.cheer()\n",
    "\n",
    "bobby = Student('Bobby Tables')\n",
    "assert bobby.caffeinated is False\n",
    "bobby.caffeinate()\n",
    "assert bobby.caffeinated is True\n",
    "\n",
    "Student.learn(99)"
   ]
  },
  {
   "cell_type": "markdown",
   "metadata": {},
   "source": [
    "### APIs (10 Minutes)\n",
    "Using this API (http://www.nokeynoshade.party/api/judges) about RuPaul's Drag Race (docs: https://drag-race-api.readme.io/docs/get-all-judges), tell me how many judges of each **`type`** there were in the first 50 records the API returns.\n",
    " - the 50 judges will have **`id`** ranging from 1 to 53\n",
    " - you can do the aggregation in pure Python, Pandas, SQL-- whatever's easiest for you"
   ]
  },
  {
   "cell_type": "code",
   "execution_count": 44,
   "metadata": {},
   "outputs": [
    {
     "data": {
      "text/plain": [
       "200"
      ]
     },
     "execution_count": 44,
     "metadata": {},
     "output_type": "execute_result"
    }
   ],
   "source": [
    "resp = requests.get('http://www.nokeynoshade.party/api/judges', params={'limit': 50})\n",
    "resp.status_code"
   ]
  },
  {
   "cell_type": "code",
   "execution_count": 45,
   "metadata": {
    "scrolled": true
   },
   "outputs": [
    {
     "data": {
      "text/plain": [
       "[{'id': 1,\n",
       "  'name': 'Rupaul',\n",
       "  'image_url': 'https://vignette.wikia.nocookie.net/logosrupaulsdragrace/images/b/ba/Rupaul_blackpink_final.jpg/revision/latest/scale-to-width-down/350?cb=20110731183922',\n",
       "  'bio': 'Drag performer, actor, television host, and recording artist',\n",
       "  'type': 'regular',\n",
       "  'createdAt': '2018-01-11T00:43:31.258Z',\n",
       "  'updatedAt': '2018-01-11T00:43:31.258Z'},\n",
       " {'id': 2,\n",
       "  'name': 'Bob Mackie',\n",
       "  'image_url': None,\n",
       "  'bio': 'Fashion Designer',\n",
       "  'type': 'guest',\n",
       "  'createdAt': '2017-08-22T00:27:40.731Z',\n",
       "  'updatedAt': '2017-08-22T00:27:40.731Z'},\n",
       " {'id': 3,\n",
       "  'name': 'Mike Ruiz',\n",
       "  'image_url': 'https://vignette3.wikia.nocookie.net/logosrupaulsdragrace/images/7/7c/Mike_Ruiz.jpg/revision/latest/scale-to-width-down/350?cb=20110731184513',\n",
       "  'bio': 'Photographer',\n",
       "  'type': 'regular',\n",
       "  'createdAt': '2017-08-22T00:46:35.279Z',\n",
       "  'updatedAt': '2017-08-22T00:46:35.279Z'},\n",
       " {'id': 4,\n",
       "  'name': 'Michelle Williams',\n",
       "  'image_url': 'https://upload.wikimedia.org/wikipedia/commons/thumb/a/a0/Michelle_Williams_2015.jpg/220px-Michelle_Williams_2015.jpg',\n",
       "  'bio': 'Singer',\n",
       "  'type': 'guest',\n",
       "  'createdAt': '2017-08-22T00:49:01.253Z',\n",
       "  'updatedAt': '2017-08-22T00:49:01.253Z'},\n",
       " {'id': 5,\n",
       "  'name': 'Frank Gatson, Jr.',\n",
       "  'image_url': None,\n",
       "  'bio': 'Choreographer and Director',\n",
       "  'type': 'guest',\n",
       "  'createdAt': '2017-08-22T00:51:15.898Z',\n",
       "  'updatedAt': '2017-08-22T00:51:15.898Z'},\n",
       " {'id': 6,\n",
       "  'name': 'Debra Wilson',\n",
       "  'image_url': 'https://upload.wikimedia.org/wikipedia/commons/thumb/6/66/Debra_Wilson_Skelton_2010.jpg/220px-Debra_Wilson_Skelton_2010.jpg',\n",
       "  'bio': 'Actress and Comedian',\n",
       "  'type': 'guest',\n",
       "  'createdAt': '2017-08-22T00:52:23.876Z',\n",
       "  'updatedAt': '2017-08-22T00:52:23.876Z'},\n",
       " {'id': 7,\n",
       "  'name': 'Howard Bragman',\n",
       "  'image_url': None,\n",
       "  'bio': 'Public Relations',\n",
       "  'type': 'guest',\n",
       "  'createdAt': '2017-08-22T00:53:06.547Z',\n",
       "  'updatedAt': '2017-08-22T00:53:06.547Z'},\n",
       " {'id': 8,\n",
       "  'name': 'Jenny Shimizu',\n",
       "  'image_url': 'https://upload.wikimedia.org/wikipedia/commons/thumb/9/9d/Jenny_Shimizu.jpg/175px-Jenny_Shimizu.jpg',\n",
       "  'bio': 'Model and Actress',\n",
       "  'type': 'guest',\n",
       "  'createdAt': '2017-08-22T00:55:31.608Z',\n",
       "  'updatedAt': '2017-08-22T00:55:31.608Z'},\n",
       " {'id': 9,\n",
       "  'name': 'Gordon Espinet',\n",
       "  'image_url': None,\n",
       "  'bio': 'Makeup Artistry, MAC Cosmetics',\n",
       "  'type': 'guest',\n",
       "  'createdAt': '2017-08-22T00:56:25.421Z',\n",
       "  'updatedAt': '2017-08-22T00:56:25.421Z'},\n",
       " {'id': 10,\n",
       "  'name': 'Lucy Lawless',\n",
       "  'image_url': 'https://upload.wikimedia.org/wikipedia/commons/thumb/1/14/Lucy_Lawless_by_Gage_Skidmore_2.jpg/220px-Lucy_Lawless_by_Gage_Skidmore_2.jpg',\n",
       "  'bio': 'Actress',\n",
       "  'type': 'guest',\n",
       "  'createdAt': '2017-08-22T00:57:39.975Z',\n",
       "  'updatedAt': '2017-08-22T00:57:39.975Z'},\n",
       " {'id': 11,\n",
       "  'name': 'Robin Antin',\n",
       "  'image_url': 'https://upload.wikimedia.org/wikipedia/commons/thumb/2/24/Robin_Antin.jpg/200px-Robin_Antin.jpg',\n",
       "  'bio': 'Singer',\n",
       "  'type': 'guest',\n",
       "  'createdAt': '2017-08-22T00:58:33.516Z',\n",
       "  'updatedAt': '2017-08-22T00:58:33.516Z'},\n",
       " {'id': 12,\n",
       "  'name': 'Jeffrey Moran',\n",
       "  'image_url': None,\n",
       "  'bio': 'Image Consultant',\n",
       "  'type': 'guest',\n",
       "  'createdAt': '2017-08-22T01:00:44.596Z',\n",
       "  'updatedAt': '2017-08-22T01:00:44.596Z'},\n",
       " {'id': 13,\n",
       "  'name': 'María Conchita Alonso',\n",
       "  'image_url': 'https://upload.wikimedia.org/wikipedia/commons/thumb/2/23/Maria_Conchita_Alonso_LA_Pride_2011.jpg/220px-Maria_Conchita_Alonso_LA_Pride_2011.jpg',\n",
       "  'bio': 'Singer/Songwriter and Actress',\n",
       "  'type': 'guest',\n",
       "  'createdAt': '2017-08-22T01:08:13.175Z',\n",
       "  'updatedAt': '2017-08-22T01:08:13.175Z'},\n",
       " {'id': 14,\n",
       "  'name': 'Kathy Griffin',\n",
       "  'image_url': 'https://upload.wikimedia.org/wikipedia/commons/thumb/8/8a/Kathy_Griffin_2015_TCA_Press_Tour_%28cropped%29.jpg/220px-Kathy_Griffin_2015_TCA_Press_Tour_%28cropped%29.jpg',\n",
       "  'bio': 'Actress, Comedian, Writer, Producer, and Television Host',\n",
       "  'type': 'guest',\n",
       "  'createdAt': '2017-08-22T01:11:10.176Z',\n",
       "  'updatedAt': '2017-08-22T01:11:10.176Z'},\n",
       " {'id': 15,\n",
       "  'name': 'Kim Coles',\n",
       "  'image_url': 'https://upload.wikimedia.org/wikipedia/commons/thumb/3/35/Kim_Coles.jpg/220px-Kim_Coles.jpg',\n",
       "  'bio': 'Actress, Comedian and Gameshow Host',\n",
       "  'type': 'guest',\n",
       "  'createdAt': '2017-08-22T01:13:00.823Z',\n",
       "  'updatedAt': '2017-08-22T01:13:00.823Z'},\n",
       " {'id': 16,\n",
       "  'name': 'Dita Von Teese',\n",
       "  'image_url': 'https://upload.wikimedia.org/wikipedia/commons/thumb/6/6f/Dita_Von_Teese_at_Cannes_2007.jpg/220px-Dita_Von_Teese_at_Cannes_2007.jpg',\n",
       "  'bio': 'Burlesque Dancer, Model, Costume Designer',\n",
       "  'type': 'guest',\n",
       "  'createdAt': '2017-08-22T01:14:23.109Z',\n",
       "  'updatedAt': '2017-08-22T01:14:23.109Z'},\n",
       " {'id': 17,\n",
       "  'name': 'Kathy Najimy',\n",
       "  'image_url': 'https://upload.wikimedia.org/wikipedia/commons/thumb/3/3c/Kathy_Najimy.jpg/220px-Kathy_Najimy.jpg',\n",
       "  'bio': 'Actress and Comedian',\n",
       "  'type': 'guest',\n",
       "  'createdAt': '2017-08-22T01:16:00.413Z',\n",
       "  'updatedAt': '2017-08-22T01:16:00.413Z'},\n",
       " {'id': 18,\n",
       "  'name': 'Tanya Tucker',\n",
       "  'image_url': 'https://upload.wikimedia.org/wikipedia/commons/thumb/7/77/Tanya_Tucker.png/250px-Tanya_Tucker.png',\n",
       "  'bio': 'Country Music Artist',\n",
       "  'type': 'guest',\n",
       "  'createdAt': '2017-08-22T01:18:00.077Z',\n",
       "  'updatedAt': '2017-08-22T01:18:00.077Z'},\n",
       " {'id': 19,\n",
       "  'name': 'Lisa Rinna',\n",
       "  'image_url': 'https://upload.wikimedia.org/wikipedia/commons/d/d2/Lisa_Rinna6crop.jpg',\n",
       "  'bio': 'Actress and Television Host',\n",
       "  'type': 'guest',\n",
       "  'createdAt': '2017-08-22T01:19:31.389Z',\n",
       "  'updatedAt': '2017-08-22T01:19:31.389Z'},\n",
       " {'id': 20,\n",
       "  'name': 'Niecy Nash',\n",
       "  'image_url': 'https://upload.wikimedia.org/wikipedia/commons/thumb/b/b7/Niecy_Nash_2010.jpg/220px-Niecy_Nash_2010.jpg',\n",
       "  'bio': 'Comedian, Model, Actress, and Producer',\n",
       "  'type': 'guest',\n",
       "  'createdAt': '2017-08-22T01:20:31.627Z',\n",
       "  'updatedAt': '2017-08-22T01:20:31.627Z'},\n",
       " {'id': 21,\n",
       "  'name': 'Mathu Andersen',\n",
       "  'image_url': 'https://vignette1.wikia.nocookie.net/logosrupaulsdragrace/images/9/95/Mathu_Andersen.jpeg/revision/latest/scale-to-width-down/350?cb=20160415221021',\n",
       "  'bio': 'Makeup Artist',\n",
       "  'type': 'guest',\n",
       "  'createdAt': '2017-10-18T00:51:16.710Z',\n",
       "  'updatedAt': '2017-10-18T00:51:16.710Z'},\n",
       " {'id': 22,\n",
       "  'name': 'Martha Wash',\n",
       "  'image_url': 'https://upload.wikimedia.org/wikipedia/commons/thumb/3/3e/Martha_Wash.jpg/220px-Martha_Wash.jpg',\n",
       "  'bio': 'Singer and Songwriter',\n",
       "  'type': 'guest',\n",
       "  'createdAt': '2017-10-18T00:55:22.512Z',\n",
       "  'updatedAt': '2017-10-18T00:55:22.512Z'},\n",
       " {'id': 23,\n",
       "  'name': 'Henry Rollins',\n",
       "  'image_url': 'https://upload.wikimedia.org/wikipedia/commons/thumb/e/e5/HenryRollins2010.jpg/250px-HenryRollins2010.jpg',\n",
       "  'bio': 'Musician',\n",
       "  'type': 'guest',\n",
       "  'createdAt': '2017-10-18T00:57:00.718Z',\n",
       "  'updatedAt': '2017-10-18T00:57:00.718Z'},\n",
       " {'id': 24,\n",
       "  'name': 'Terri Nunn',\n",
       "  'image_url': 'https://upload.wikimedia.org/wikipedia/commons/thumb/e/e9/Terri_Nunn_at_OpenWorld_crop.jpg/220px-Terri_Nunn_at_OpenWorld_crop.jpg',\n",
       "  'bio': 'Singer and Actress',\n",
       "  'type': 'guest',\n",
       "  'createdAt': '2017-10-18T00:58:58.414Z',\n",
       "  'updatedAt': '2017-10-18T00:58:58.414Z'},\n",
       " {'id': 25,\n",
       "  'name': 'Gigi Levangie Grazer',\n",
       "  'image_url': None,\n",
       "  'bio': 'Novelist, Screenwriter, and Producer',\n",
       "  'type': 'guest',\n",
       "  'createdAt': '2017-10-18T01:02:21.102Z',\n",
       "  'updatedAt': '2017-10-18T01:02:21.102Z'},\n",
       " {'id': 26,\n",
       "  'name': 'Jackie Collins',\n",
       "  'image_url': 'https://upload.wikimedia.org/wikipedia/commons/thumb/2/21/Jackie_Collins.jpg/220px-Jackie_Collins.jpg',\n",
       "  'bio': 'Romance Novelist',\n",
       "  'type': 'guest',\n",
       "  'createdAt': '2017-10-18T01:06:41.873Z',\n",
       "  'updatedAt': '2017-10-18T01:06:41.873Z'},\n",
       " {'id': 27,\n",
       "  'name': 'Debbie Reynolds',\n",
       "  'image_url': 'https://upload.wikimedia.org/wikipedia/commons/thumb/d/d5/Debbie_Reynolds_33.jpg/220px-Debbie_Reynolds_33.jpg',\n",
       "  'bio': 'Actress',\n",
       "  'type': 'guest',\n",
       "  'createdAt': '2017-10-18T01:08:14.200Z',\n",
       "  'updatedAt': '2017-10-18T01:08:14.200Z'},\n",
       " {'id': 28,\n",
       "  'name': 'Cloris Leachman',\n",
       "  'image_url': 'https://upload.wikimedia.org/wikipedia/commons/thumb/2/22/Cloris_Leachman_1970.JPG/220px-Cloris_Leachman_1970.JPG',\n",
       "  'bio': 'Actress',\n",
       "  'type': 'guest',\n",
       "  'createdAt': '2017-10-18T01:08:59.558Z',\n",
       "  'updatedAt': '2017-10-18T01:08:59.558Z'},\n",
       " {'id': 29,\n",
       "  'name': 'Toni Ko',\n",
       "  'image_url': None,\n",
       "  'bio': 'NYX Cosmetics Founder',\n",
       "  'type': 'guest',\n",
       "  'createdAt': '2017-10-18T01:10:07.021Z',\n",
       "  'updatedAt': '2017-10-18T01:10:07.021Z'},\n",
       " {'id': 30,\n",
       "  'name': \"Tatum O'Neal\",\n",
       "  'image_url': 'https://upload.wikimedia.org/wikipedia/commons/thumb/8/88/Tatum_O%27Neal_-_November_2014_%28cropped%29.jpg/220px-Tatum_O%27Neal_-_November_2014_%28cropped%29.jpg',\n",
       "  'bio': 'Actress and Author',\n",
       "  'type': 'guest',\n",
       "  'createdAt': '2017-10-18T01:10:58.088Z',\n",
       "  'updatedAt': '2017-10-18T01:10:58.088Z'},\n",
       " {'id': 31,\n",
       "  'name': 'Marissa Jaret Winokur',\n",
       "  'image_url': 'https://upload.wikimedia.org/wikipedia/commons/thumb/5/51/Marissa_Jaret_Winokur.jpg/220px-Marissa_Jaret_Winokur.jpg',\n",
       "  'bio': 'Actress',\n",
       "  'type': 'guest',\n",
       "  'createdAt': '2017-10-18T01:13:28.239Z',\n",
       "  'updatedAt': '2017-10-18T01:13:28.239Z'},\n",
       " {'id': 32,\n",
       "  'name': 'Bruce Vilanch',\n",
       "  'image_url': 'https://upload.wikimedia.org/wikipedia/commons/thumb/a/af/Brucevilanch.jpg/165px-Brucevilanch.jpg',\n",
       "  'bio': 'Comedy Writer, Songwriter, and Actor',\n",
       "  'type': 'guest',\n",
       "  'createdAt': '2017-10-18T01:18:15.861Z',\n",
       "  'updatedAt': '2017-10-18T01:18:15.861Z'},\n",
       " {'id': 33,\n",
       "  'name': 'Vanessa Williams',\n",
       "  'image_url': 'https://upload.wikimedia.org/wikipedia/commons/thumb/a/ae/VanessaWilliamsHWoFMar2012.jpg/220px-VanessaWilliamsHWoFMar2012.jpg',\n",
       "  'bio': 'Actress, Singer, and former Miss America',\n",
       "  'type': 'guest',\n",
       "  'createdAt': '2017-10-18T01:19:37.317Z',\n",
       "  'updatedAt': '2017-10-18T01:19:37.317Z'},\n",
       " {'id': 34,\n",
       "  'name': 'Lily Tomlin',\n",
       "  'image_url': 'https://upload.wikimedia.org/wikipedia/commons/thumb/6/63/Lily_Tomlin_2014.jpg/220px-Lily_Tomlin_2014.jpg',\n",
       "  'bio': 'Actress and Comedian',\n",
       "  'type': 'guest',\n",
       "  'createdAt': '2017-10-18T01:21:08.770Z',\n",
       "  'updatedAt': '2017-10-18T01:21:08.770Z'},\n",
       " {'id': 35,\n",
       "  'name': 'Alessandra Torresani',\n",
       "  'image_url': 'https://upload.wikimedia.org/wikipedia/commons/thumb/2/24/AlessandraTorresaniApr09.jpg/250px-AlessandraTorresaniApr09.jpg',\n",
       "  'bio': 'Actress',\n",
       "  'type': 'guest',\n",
       "  'createdAt': '2017-10-18T01:21:56.375Z',\n",
       "  'updatedAt': '2017-10-18T01:21:56.375Z'},\n",
       " {'id': 36,\n",
       "  'name': 'LaToya Jackson',\n",
       "  'image_url': 'https://upload.wikimedia.org/wikipedia/commons/thumb/a/ab/La_Toya_Jackson_cropped.jpg/220px-La_Toya_Jackson_cropped.jpg',\n",
       "  'bio': 'Singer',\n",
       "  'type': 'guest',\n",
       "  'createdAt': '2017-10-18T01:25:31.321Z',\n",
       "  'updatedAt': '2017-10-18T01:25:31.321Z'},\n",
       " {'id': 37,\n",
       "  'name': 'Susan Powter',\n",
       "  'image_url': None,\n",
       "  'bio': 'Motivational Speaker and Fitness Guru',\n",
       "  'type': 'guest',\n",
       "  'createdAt': '2017-10-18T01:26:35.090Z',\n",
       "  'updatedAt': '2017-10-18T01:26:35.090Z'},\n",
       " {'id': 38,\n",
       "  'name': 'Billy B',\n",
       "  'image_url': 'https://images-na.ssl-images-amazon.com/images/M/MV5BMTM1MjA0Njg1N15BMl5BanBnXkFtZTcwMDEwMzIzMQ@@._V1_.jpg',\n",
       "  'bio': 'Makeup Artist',\n",
       "  'type': 'interim',\n",
       "  'createdAt': '2017-11-08T00:33:47.079Z',\n",
       "  'updatedAt': '2017-11-08T00:33:47.079Z'},\n",
       " {'id': 39,\n",
       "  'name': 'Margaret Cho',\n",
       "  'image_url': 'https://en.wikipedia.org/wiki/File:Margaret_Cho,_2011_Cannes_(crop).png',\n",
       "  'bio': 'Actress and Comedian',\n",
       "  'type': 'guest',\n",
       "  'createdAt': '2017-11-08T00:36:51.418Z',\n",
       "  'updatedAt': '2017-11-08T00:36:51.418Z'},\n",
       " {'id': 40,\n",
       "  'name': 'Eliza Dushku',\n",
       "  'image_url': 'https://en.wikipedia.org/wiki/File:Eliza_Dushku_2,_2012.jpg',\n",
       "  'bio': 'Actress',\n",
       "  'type': 'guest',\n",
       "  'createdAt': '2017-11-08T00:38:47.096Z',\n",
       "  'updatedAt': '2017-11-08T00:38:47.096Z'},\n",
       " {'id': 41,\n",
       "  'name': 'Carmen Electra',\n",
       "  'image_url': 'https://upload.wikimedia.org/wikipedia/commons/thumb/b/bb/Carmen_Electra_2013.jpg/220px-Carmen_Electra_2013.jpg',\n",
       "  'bio': 'Actress',\n",
       "  'type': 'guest',\n",
       "  'createdAt': '2017-11-08T00:48:29.247Z',\n",
       "  'updatedAt': '2017-11-08T00:48:29.247Z'},\n",
       " {'id': 42,\n",
       "  'name': 'Fantasia Barrino',\n",
       "  'image_url': 'https://en.wikipedia.org/wiki/File:Fantasia_Barrino.jpg',\n",
       "  'bio': 'Singer, Actress, and Author',\n",
       "  'type': 'guest',\n",
       "  'createdAt': '2017-11-08T00:51:01.149Z',\n",
       "  'updatedAt': '2017-11-08T00:51:01.149Z'},\n",
       " {'id': 46,\n",
       "  'name': 'Debbie Matenopoulos',\n",
       "  'image_url': 'NULL',\n",
       "  'bio': 'Television Host',\n",
       "  'type': 'guest',\n",
       "  'createdAt': '2017-11-08T00:57:56.016Z',\n",
       "  'updatedAt': '2017-11-08T00:57:56.016Z'},\n",
       " {'id': 47,\n",
       "  'name': 'Wayne Brady',\n",
       "  'image_url': 'https://upload.wikimedia.org/wikipedia/commons/thumb/b/bb/Wayne_Brady_2015.jpg/220px-Wayne_Brady_2015.jpg',\n",
       "  'bio': 'Actor, Comedian, and Singer',\n",
       "  'type': 'guest',\n",
       "  'createdAt': '2017-11-08T00:59:02.441Z',\n",
       "  'updatedAt': '2017-11-08T00:59:02.441Z'},\n",
       " {'id': 48,\n",
       "  'name': 'Arden Myrin',\n",
       "  'image_url': 'https://en.wikipedia.org/wiki/File:Arden_V._Myrin.jpg',\n",
       "  'bio': 'Comedian, Former Cast Member of MADtv',\n",
       "  'type': 'guest',\n",
       "  'createdAt': '2017-11-08T01:00:27.594Z',\n",
       "  'updatedAt': '2017-11-08T01:00:27.594Z'},\n",
       " {'id': 49,\n",
       "  'name': 'Sharon Osbourne',\n",
       "  'image_url': 'https://en.wikipedia.org/wiki/File:Sharon_Osbourne_2,_2012.jpg',\n",
       "  'bio': 'Television Host and Reality Television Personality',\n",
       "  'type': 'guest',\n",
       "  'createdAt': '2017-11-08T01:02:03.123Z',\n",
       "  'updatedAt': '2017-11-08T01:02:03.123Z'},\n",
       " {'id': 50,\n",
       "  'name': 'Amber Rose',\n",
       "  'image_url': 'https://upload.wikimedia.org/wikipedia/commons/thumb/2/2c/Amber_Rose_-_2014_People_Magazine_Awards_%28cropped%29.jpg/220px-Amber_Rose_-_2014_People_Magazine_Awards_%28cropped%29.jpg',\n",
       "  'bio': 'Model',\n",
       "  'type': 'guest',\n",
       "  'createdAt': '2017-11-08T01:04:04.016Z',\n",
       "  'updatedAt': '2017-11-08T01:04:04.016Z'},\n",
       " {'id': 51,\n",
       "  'name': 'Rita Rudner',\n",
       "  'image_url': 'https://upload.wikimedia.org/wikipedia/commons/thumb/4/4f/Rita_Rudner.jpg/220px-Rita_Rudner.jpg',\n",
       "  'bio': 'Comedian',\n",
       "  'type': 'guest',\n",
       "  'createdAt': '2017-11-08T01:07:08.437Z',\n",
       "  'updatedAt': '2017-11-08T01:07:08.437Z'},\n",
       " {'id': 52,\n",
       "  'name': 'Sara Rue',\n",
       "  'image_url': 'https://en.wikipedia.org/wiki/File:Sara_Rue.jpg',\n",
       "  'bio': 'Actress',\n",
       "  'type': 'guest',\n",
       "  'createdAt': '2017-11-08T01:10:47.782Z',\n",
       "  'updatedAt': '2017-11-08T01:10:47.782Z'},\n",
       " {'id': 53,\n",
       "  'name': 'Chloe Sevigny',\n",
       "  'image_url': 'https://upload.wikimedia.org/wikipedia/commons/thumb/0/0f/Chloe_Sevigny_Horror_premiere_2015.jpg/220px-Chloe_Sevigny_Horror_premiere_2015.jpg',\n",
       "  'bio': 'Actress and Model',\n",
       "  'type': 'guest',\n",
       "  'createdAt': '2017-11-08T01:12:23.561Z',\n",
       "  'updatedAt': '2017-11-08T01:12:23.561Z'}]"
      ]
     },
     "execution_count": 45,
     "metadata": {},
     "output_type": "execute_result"
    }
   ],
   "source": [
    "resp.json()"
   ]
  },
  {
   "cell_type": "code",
   "execution_count": 47,
   "metadata": {},
   "outputs": [
    {
     "data": {
      "text/plain": [
       "dict_keys(['id', 'name', 'image_url', 'bio', 'type', 'createdAt', 'updatedAt'])"
      ]
     },
     "execution_count": 47,
     "metadata": {},
     "output_type": "execute_result"
    }
   ],
   "source": [
    "resp.json()[0].keys()"
   ]
  },
  {
   "cell_type": "code",
   "execution_count": 53,
   "metadata": {},
   "outputs": [
    {
     "data": {
      "text/plain": [
       "{'regular': 2, 'guest': 47, 'interim': 1}"
      ]
     },
     "execution_count": 53,
     "metadata": {},
     "output_type": "execute_result"
    }
   ],
   "source": [
    "count_of_judge_types = {'regular': 0, 'guest': 0, 'interim': 0}\n",
    "for judge in range(50):\n",
    "    if resp.json()[judge]['type'] == 'regular':\n",
    "        count_of_judge_types['regular'] += 1\n",
    "    if resp.json()[judge]['type'] == 'guest':\n",
    "        count_of_judge_types['guest'] += 1\n",
    "    if resp.json()[judge]['type'] == 'interim':\n",
    "        count_of_judge_types['interim'] += 1\n",
    "count_of_judge_types"
   ]
  },
  {
   "cell_type": "markdown",
   "metadata": {},
   "source": [
    "### Web Scraping (15 Minutes)\n",
    "Scrape the website [http://quotes.toscrape.com/](http://quotes.toscrape.com/).  Turn each quote on the page into a Pandas dataframe consisting of two columns: the author of the quote and the quote itself. The final result should be a dataframe of 10 rows (not counting header) and 2 columns (not counting index)."
   ]
  },
  {
   "cell_type": "code",
   "execution_count": 56,
   "metadata": {},
   "outputs": [],
   "source": [
    "resp = requests.get('http://quotes.toscrape.com/')\n",
    "soup = BeautifulSoup(resp.content, 'html.parser')"
   ]
  },
  {
   "cell_type": "code",
   "execution_count": 64,
   "metadata": {},
   "outputs": [],
   "source": [
    "boxes = soup.findAll('div', class_='quote')"
   ]
  },
  {
   "cell_type": "code",
   "execution_count": 69,
   "metadata": {},
   "outputs": [
    {
     "name": "stdout",
     "output_type": "stream",
     "text": [
      "10\n"
     ]
    },
    {
     "data": {
      "text/plain": [
       "['“The world as we have created it is a process of our thinking. It cannot be changed without changing our thinking.”',\n",
       " '“It is our choices, Harry, that show what we truly are, far more than our abilities.”',\n",
       " '“There are only two ways to live your life. One is as though nothing is a miracle. The other is as though everything is a miracle.”',\n",
       " '“The person, be it gentleman or lady, who has not pleasure in a good novel, must be intolerably stupid.”',\n",
       " \"“Imperfection is beauty, madness is genius and it's better to be absolutely ridiculous than absolutely boring.”\",\n",
       " '“Try not to become a man of success. Rather become a man of value.”',\n",
       " '“It is better to be hated for what you are than to be loved for what you are not.”',\n",
       " \"“I have not failed. I've just found 10,000 ways that won't work.”\",\n",
       " \"“A woman is like a tea bag; you never know how strong it is until it's in hot water.”\",\n",
       " '“A day without sunshine is like, you know, night.”']"
      ]
     },
     "execution_count": 69,
     "metadata": {},
     "output_type": "execute_result"
    }
   ],
   "source": [
    "quotes = [box.find('span', class_='text').text for box in boxes]\n",
    "print(len(quotes))\n",
    "quotes"
   ]
  },
  {
   "cell_type": "code",
   "execution_count": 70,
   "metadata": {},
   "outputs": [
    {
     "name": "stdout",
     "output_type": "stream",
     "text": [
      "10\n"
     ]
    },
    {
     "data": {
      "text/plain": [
       "['Albert Einstein',\n",
       " 'J.K. Rowling',\n",
       " 'Albert Einstein',\n",
       " 'Jane Austen',\n",
       " 'Marilyn Monroe',\n",
       " 'Albert Einstein',\n",
       " 'André Gide',\n",
       " 'Thomas A. Edison',\n",
       " 'Eleanor Roosevelt',\n",
       " 'Steve Martin']"
      ]
     },
     "execution_count": 70,
     "metadata": {},
     "output_type": "execute_result"
    }
   ],
   "source": [
    "authors = [box.find('small').text for box in boxes]\n",
    "print(len(authors))\n",
    "authors"
   ]
  },
  {
   "cell_type": "code",
   "execution_count": 74,
   "metadata": {},
   "outputs": [
    {
     "data": {
      "text/html": [
       "<div>\n",
       "<style scoped>\n",
       "    .dataframe tbody tr th:only-of-type {\n",
       "        vertical-align: middle;\n",
       "    }\n",
       "\n",
       "    .dataframe tbody tr th {\n",
       "        vertical-align: top;\n",
       "    }\n",
       "\n",
       "    .dataframe thead th {\n",
       "        text-align: right;\n",
       "    }\n",
       "</style>\n",
       "<table border=\"1\" class=\"dataframe\">\n",
       "  <thead>\n",
       "    <tr style=\"text-align: right;\">\n",
       "      <th></th>\n",
       "      <th>Authors</th>\n",
       "      <th>Quotes</th>\n",
       "    </tr>\n",
       "  </thead>\n",
       "  <tbody>\n",
       "    <tr>\n",
       "      <th>0</th>\n",
       "      <td>Albert Einstein</td>\n",
       "      <td>“The world as we have created it is a process ...</td>\n",
       "    </tr>\n",
       "    <tr>\n",
       "      <th>1</th>\n",
       "      <td>J.K. Rowling</td>\n",
       "      <td>“It is our choices, Harry, that show what we t...</td>\n",
       "    </tr>\n",
       "    <tr>\n",
       "      <th>2</th>\n",
       "      <td>Albert Einstein</td>\n",
       "      <td>“There are only two ways to live your life. On...</td>\n",
       "    </tr>\n",
       "    <tr>\n",
       "      <th>3</th>\n",
       "      <td>Jane Austen</td>\n",
       "      <td>“The person, be it gentleman or lady, who has ...</td>\n",
       "    </tr>\n",
       "    <tr>\n",
       "      <th>4</th>\n",
       "      <td>Marilyn Monroe</td>\n",
       "      <td>“Imperfection is beauty, madness is genius and...</td>\n",
       "    </tr>\n",
       "    <tr>\n",
       "      <th>5</th>\n",
       "      <td>Albert Einstein</td>\n",
       "      <td>“Try not to become a man of success. Rather be...</td>\n",
       "    </tr>\n",
       "    <tr>\n",
       "      <th>6</th>\n",
       "      <td>André Gide</td>\n",
       "      <td>“It is better to be hated for what you are tha...</td>\n",
       "    </tr>\n",
       "    <tr>\n",
       "      <th>7</th>\n",
       "      <td>Thomas A. Edison</td>\n",
       "      <td>“I have not failed. I've just found 10,000 way...</td>\n",
       "    </tr>\n",
       "    <tr>\n",
       "      <th>8</th>\n",
       "      <td>Eleanor Roosevelt</td>\n",
       "      <td>“A woman is like a tea bag; you never know how...</td>\n",
       "    </tr>\n",
       "    <tr>\n",
       "      <th>9</th>\n",
       "      <td>Steve Martin</td>\n",
       "      <td>“A day without sunshine is like, you know, nig...</td>\n",
       "    </tr>\n",
       "  </tbody>\n",
       "</table>\n",
       "</div>"
      ],
      "text/plain": [
       "             Authors                                             Quotes\n",
       "0    Albert Einstein  “The world as we have created it is a process ...\n",
       "1       J.K. Rowling  “It is our choices, Harry, that show what we t...\n",
       "2    Albert Einstein  “There are only two ways to live your life. On...\n",
       "3        Jane Austen  “The person, be it gentleman or lady, who has ...\n",
       "4     Marilyn Monroe  “Imperfection is beauty, madness is genius and...\n",
       "5    Albert Einstein  “Try not to become a man of success. Rather be...\n",
       "6         André Gide  “It is better to be hated for what you are tha...\n",
       "7   Thomas A. Edison  “I have not failed. I've just found 10,000 way...\n",
       "8  Eleanor Roosevelt  “A woman is like a tea bag; you never know how...\n",
       "9       Steve Martin  “A day without sunshine is like, you know, nig..."
      ]
     },
     "execution_count": 74,
     "metadata": {},
     "output_type": "execute_result"
    }
   ],
   "source": [
    "df = pd.DataFrame([authors, quotes])\n",
    "df = df.T\n",
    "df.columns = ['Authors', 'Quotes']\n",
    "df"
   ]
  },
  {
   "cell_type": "markdown",
   "metadata": {},
   "source": [
    "### NoSQL (10 Minutes)\n",
    "Answer all of the following questions by querying Mongo and manipulating the results in Python\n",
    "1. Load data from `assets/grades.json` into Mongo (this code is written for you)"
   ]
  },
  {
   "cell_type": "code",
   "execution_count": 75,
   "metadata": {},
   "outputs": [
    {
     "data": {
      "text/plain": [
       "<pymongo.results.InsertManyResult at 0x1ed0eaa4448>"
      ]
     },
     "execution_count": 75,
     "metadata": {},
     "output_type": "execute_result"
    }
   ],
   "source": [
    "# you shouldn't need to edit this cell!\n",
    "with open('assets/grades.jsonl') as f:\n",
    "    # loads() comes from the bson library\n",
    "    file_data = [loads(line) for line in f.readlines()]\n",
    "\n",
    "client = pymongo.MongoClient(\"mongodb://localhost:27017/\")\n",
    "db = client[\"mod2db\"]\n",
    "coll = db[\"testcoll\"]\n",
    "\n",
    "coll.insert_many(file_data)"
   ]
  },
  {
   "cell_type": "markdown",
   "metadata": {},
   "source": [
    "2. How many records are there total?"
   ]
  },
  {
   "cell_type": "code",
   "execution_count": 77,
   "metadata": {},
   "outputs": [
    {
     "data": {
      "text/plain": [
       "280"
      ]
     },
     "execution_count": 77,
     "metadata": {},
     "output_type": "execute_result"
    }
   ],
   "source": [
    "num_records = coll.count_documents({})\n",
    "num_records"
   ]
  },
  {
   "cell_type": "markdown",
   "metadata": {},
   "source": [
    "3. How many students have taken the class with `class_id` = **29**?"
   ]
  },
  {
   "cell_type": "code",
   "execution_count": 81,
   "metadata": {},
   "outputs": [
    {
     "data": {
      "text/plain": [
       "{'_id': ObjectId('50b59cd75bed76f46522c34e'),\n",
       " 'student_id': 0,\n",
       " 'class_id': 2,\n",
       " 'scores': [{'type': 'exam', 'score': 57.92947112575566},\n",
       "  {'type': 'quiz', 'score': 21.24542588206755},\n",
       "  {'type': 'homework', 'score': 68.1956781058743},\n",
       "  {'type': 'homework', 'score': 67.95019716560351},\n",
       "  {'type': 'homework', 'score': 18.81037253352722}]}"
      ]
     },
     "execution_count": 81,
     "metadata": {},
     "output_type": "execute_result"
    }
   ],
   "source": [
    "coll.find({})[0]"
   ]
  },
  {
   "cell_type": "code",
   "execution_count": 90,
   "metadata": {},
   "outputs": [
    {
     "data": {
      "text/plain": [
       "9"
      ]
     },
     "execution_count": 90,
     "metadata": {},
     "output_type": "execute_result"
    }
   ],
   "source": [
    "step1 = coll.find({'class_id':29}, {'_id':0,'student_id':1})\n",
    "students = []\n",
    "for student in step1:\n",
    "    students.append(student['student_id'])\n",
    "len(set(students))"
   ]
  },
  {
   "cell_type": "markdown",
   "metadata": {},
   "source": [
    "4. Super bonus question: for student **12** in class **23**, what grade did they get on their exam?"
   ]
  },
  {
   "cell_type": "code",
   "execution_count": 98,
   "metadata": {},
   "outputs": [
    {
     "name": "stdout",
     "output_type": "stream",
     "text": [
      "26.9857216299485\n"
     ]
    }
   ],
   "source": [
    "step1 = coll.find({'class_id':23, 'student_id':12}, {'_id':0,'scores':1})\n",
    "for x in step1:\n",
    "    for result in x['scores']:\n",
    "        if result['type'] == 'exam':\n",
    "            print(result['score'])"
   ]
  },
  {
   "cell_type": "code",
   "execution_count": 99,
   "metadata": {},
   "outputs": [],
   "source": [
    "# for when you're done with this portion, this deletes the data we added.\n",
    "client.drop_database(\"mod2db\")"
   ]
  },
  {
   "cell_type": "markdown",
   "metadata": {},
   "source": [
    "## Assessment submission (2 Minutes)\n",
    "Please save your completed file as `mod2-assessment.ipynb` and upload it using [this form](https://docs.google.com/forms/d/e/1FAIpQLSczNVM9Q6Dr3w1YR3kkg4PNaOsfDO-qIvh1wLy6rR0SEwTwIQ/viewform?usp=sf_link)"
   ]
  },
  {
   "cell_type": "markdown",
   "metadata": {},
   "source": [
    "## Clifford Bridges"
   ]
  },
  {
   "cell_type": "code",
   "execution_count": null,
   "metadata": {},
   "outputs": [],
   "source": []
  }
 ],
 "metadata": {
  "kernelspec": {
   "display_name": "Python 3",
   "language": "python",
   "name": "python3"
  },
  "language_info": {
   "codemirror_mode": {
    "name": "ipython",
    "version": 3
   },
   "file_extension": ".py",
   "mimetype": "text/x-python",
   "name": "python",
   "nbconvert_exporter": "python",
   "pygments_lexer": "ipython3",
   "version": "3.7.3"
  }
 },
 "nbformat": 4,
 "nbformat_minor": 2
}
